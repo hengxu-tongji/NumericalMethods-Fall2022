{
 "cells": [
  {
   "cell_type": "markdown",
   "id": "04c4b103",
   "metadata": {},
   "source": [
    "## 1.求有效数字"
   ]
  },
  {
   "cell_type": "code",
   "execution_count": 1,
   "id": "16409705",
   "metadata": {},
   "outputs": [
    {
     "name": "stdout",
     "output_type": "stream",
     "text": [
      "3\n"
     ]
    }
   ],
   "source": [
    "import numpy as np\n",
    "Z=-np.log10(0.0005*2)\n",
    "print(Z.astype(int))"
   ]
  },
  {
   "cell_type": "markdown",
   "id": "004b104f",
   "metadata": {},
   "source": [
    "## 3.求cos值"
   ]
  },
  {
   "cell_type": "code",
   "execution_count": 2,
   "id": "aec0a918",
   "metadata": {},
   "outputs": [
    {
     "name": "stdout",
     "output_type": "stream",
     "text": [
      "0.9999999062109375\n"
     ]
    }
   ],
   "source": [
    "A=0.0175\n",
    "B=1-A**2**2\n",
    "print(B)"
   ]
  },
  {
   "cell_type": "code",
   "execution_count": null,
   "id": "e34d7a76",
   "metadata": {},
   "outputs": [],
   "source": []
  }
 ],
 "metadata": {
  "kernelspec": {
   "display_name": "Python 3 (ipykernel)",
   "language": "python",
   "name": "python3"
  },
  "language_info": {
   "codemirror_mode": {
    "name": "ipython",
    "version": 3
   },
   "file_extension": ".py",
   "mimetype": "text/x-python",
   "name": "python",
   "nbconvert_exporter": "python",
   "pygments_lexer": "ipython3",
   "version": "3.9.12"
  }
 },
 "nbformat": 4,
 "nbformat_minor": 5
}
