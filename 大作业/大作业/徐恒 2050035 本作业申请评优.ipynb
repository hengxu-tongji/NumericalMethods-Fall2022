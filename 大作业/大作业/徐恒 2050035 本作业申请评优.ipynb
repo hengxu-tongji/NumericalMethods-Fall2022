{
 "cells": [
  {
   "cell_type": "markdown",
   "id": "163b8d53",
   "metadata": {},
   "source": [
    "# 本作业申请评优"
   ]
  },
  {
   "cell_type": "markdown",
   "id": "c91c1adb",
   "metadata": {},
   "source": [
    "# 案例1\n",
    "### 题目描述：\n",
    "试根据给出的数据，得出冰淇淋销量与温度之间的关系。  \n",
    "  \n",
    "  \n",
    "$$\\begin{array}{|c|c|c|c|}\\hline {温度(摄氏度)}&{27}&{29}&{31}&{33}\\\\ \\hline {销量(根)}&{110}&{130}&{148}&{152}\\\\ \\hline \\end{array}$$  \n",
    "  \n",
    "### 案例解答：\n",
    "设二次拟合多项式为$$p_{2}\\left(x\\right)=a_{0}+a_{1}x+a_{2}x^{2}$$\n",
    "将数据带入拟合方程可以得到\n",
    "$$\\begin{bmatrix}\n",
    " 4 & 120 & 3620\\\\\n",
    " 120 & 3620 & 109800\\\\\n",
    " 3620 & 109800 & 3348164\n",
    "\\end{bmatrix}\n",
    "\\begin{bmatrix}\n",
    " a_{0}\\\\\n",
    " a_{1}\\\\\n",
    " a_{2}\n",
    "\\end{bmatrix}\n",
    "=\n",
    "\\begin{bmatrix}\n",
    "540\\\\\n",
    "16344\\\\\n",
    "497276\n",
    "\\end{bmatrix}\n",
    "$$\n",
    "对矩阵$\\begin{bmatrix}\n",
    " 4 & 120 & 3620\\\\\n",
    " 120 & 3620 & 109800\\\\\n",
    " 3620 & 109800 & 3348164\n",
    "\\end{bmatrix}$做LU分解得到\n",
    "$$\\begin{bmatrix}\n",
    " 4 & 120 & 3620\\\\\n",
    " 120 & 3620 & 109800\\\\\n",
    " 3620 & 109800 & 3348164\n",
    "\\end{bmatrix}\n",
    "=\n",
    "\\begin{bmatrix}\n",
    " 1 & 0 & 0\\\\\n",
    " 30 & 1 & 0\\\\\n",
    " 905 & 60 & 1\n",
    "\\end{bmatrix}\n",
    "\\begin{bmatrix}\n",
    " 4 & 120 & 3620\\\\\n",
    " 0 & 20 & 1200\\\\\n",
    " 0 & 0 & 64\n",
    "\\end{bmatrix}$$\n",
    "进行两次回带后可以得到\n",
    "$$\\begin{bmatrix}\n",
    " a_{0}\\\\\n",
    " a_{1}\\\\\n",
    " a_{2}\n",
    "\\end{bmatrix}=\n",
    "\\begin{bmatrix}\n",
    "-976\\\\\n",
    "67.2\\\\\n",
    "-1\n",
    "\\end{bmatrix}$$\n",
    "则$$p_{2}\\left(x\\right)=-976+67.2x-x^{2}$$\n",
    "此外，也可以采用高斯·赛德尔迭代法来求解线性方程组\n",
    "### 代码："
   ]
  },
  {
   "cell_type": "code",
   "execution_count": 37,
   "id": "4f6f5432",
   "metadata": {},
   "outputs": [
    {
     "name": "stdout",
     "output_type": "stream",
     "text": [
      "请输入最大迭代步数K: 10000\n",
      "请输入控制精度: 0.000001\n",
      "解方程AX=b得X=\n",
      "[[-9.28046238]\n",
      " [ 2.53479036]\n",
      " [ 0.07542979]]\n"
     ]
    }
   ],
   "source": [
    "import numpy as np\n",
    "from numpy.linalg import inv,norm\n",
    "import matplotlib.pyplot as plt\n",
    "def gauss_seidel(A,b,tol,K):\n",
    "    D=np.diag(np.diag(A))\n",
    "    U=(np.triu(A)-D)\n",
    "    L=(np.tril(A)-D)\n",
    "    err=1\n",
    "    step=0\n",
    "    x_old=np.zeros((len(b),1))\n",
    "    x=np.zeros((len(b),1))\n",
    "    while err>tol and step<K:\n",
    "        x=np.dot(inv(inv(D).dot(L)+np.identity(len(b))),inv(D).dot(b-U.dot(x_old)))\n",
    "        err=norm(b-A.dot(x),2)/norm(b,2)\n",
    "        x_old=x\n",
    "        step+=1\n",
    "    return x\n",
    "K=int(input(\"请输入最大迭代步数K: \"))\n",
    "tol=float(input(\"请输入控制精度: \"))\n",
    "b=np.array([[540],[16344],[497276]])\n",
    "A=np.array([[4,120,3620],[120,3620,109800],[3620,109800,3348164]])\n",
    "print(\"解方程AX=b得X=\")\n",
    "print(gauss_seidel(A,b,tol,K))"
   ]
  },
  {
   "cell_type": "markdown",
   "id": "3f2f49da",
   "metadata": {},
   "source": [
    "### 知识点：\n",
    "第二章：LU分解解线性方程组  \n",
    "第四章：最小二乘拟合  \n",
    "第六章：高斯·赛德尔迭代法\n",
    " \n",
    "### 思政感悟：\n",
    "LU分解解线性方程组的计算工作量为三角分解加两次回代，计算量为$\\frac{4}{3}n^{2}$，比高斯消去过程的计算工作量小，具有明显的优势，且使用矩阵进行表达，式子更为简洁清晰。相比三次样条插值，曲线拟合的最小二乘方法在具备着解决龙格现象的优点之外，还大量地减小了计算量，在实际应用中非常常见。采用迭代法来解问题更适合用于大规模稀疏线性方程组，在小矩阵中计算结果不准确。\n",
    "### 案例来源：\n",
    "原创"
   ]
  },
  {
   "cell_type": "markdown",
   "id": "6988c35d",
   "metadata": {},
   "source": [
    "# 案例2\n",
    "### 题目描述：\n",
    "某居民区有一供居民用水的圆柱形水塔，一般可以通过测量其水位来估计水的流量。试估计一天的总用水量。\n",
    "$\\begin{array}{|c|c|c|c|}\\hline {时刻(h)}&{1}&{2}&{3}&{4}&{5}&{6}&{7}&{8}&{9}&{10}&{11}&{12}&{13}&{14}&{15}&{16}&{17}&{18}&{19}&{20}&{21}&{22}&{23}&{24}\\\\ \\hline {流速(m³/h)}&{53}&{45}&{28}&{36}&{35}&{63}&{33}&{32.5}&{48}&{33}&{40}&{72.5}&{60}&{62.4}&{55}&{61}&{59}&{45}&{67}&{38}&{29}&{46}&{58}&{34}\\\\ \\hline \\end{array}$\n",
    "### 案例解答：\n",
    "可以通过三次样条插值来获得水的流量的函数表达式，再通过复合辛普森积分公式来得到一天的总用水量。\n",
    "### 代码："
   ]
  },
  {
   "cell_type": "code",
   "execution_count": 10,
   "id": "9e9242e6",
   "metadata": {},
   "outputs": [
    {
     "data": {
      "image/png": "[encoded data removed]",
      "text/plain": [
       "<Figure size 432x288 with 1 Axes>"
      ]
     },
     "metadata": {
      "needs_background": "light"
     },
     "output_type": "display_data"
    },
    {
     "name": "stdout",
     "output_type": "stream",
     "text": [
      "一天总用水量为1116.0744649667665m³\n"
     ]
    }
   ],
   "source": [
    "import numpy as np\n",
    "import matplotlib.pyplot as plt\n",
    "plt.rcParams['font.sans-serif'] = ['SimHei'] #用来正常显示中文标签\n",
    "plt.rcParams['axes.unicode_minus'] = False #用来正常显示负号\n",
    "from scipy.interpolate import CubicSpline\n",
    "from scipy.integrate import simps\n",
    "\n",
    "Xi=np.array([1,2,3,4,5,6,7,8,9,10,11,12,13,14,15,16,17,18,19,20,21,22,23,24])\n",
    "Yi=np.array([53,45,28,36,35,63,33,32.5,48,33,30,72.5,60,62.4,55,61,59,45,67,38,29,46,58,34])\n",
    "scyt=CubicSpline(Xi,Yi,bc_type='not-a-knot')\n",
    "plt.figure()\n",
    "x=np.linspace(0,24,100)\n",
    "plt.plot(x,scyt(x),label=\"样条插值\",linewidth=1)\n",
    "plt.scatter(Xi,Yi,label=\"数据点\",color=\"r\")\n",
    "plt.legend()\n",
    "plt.show()\n",
    "t=np.linspace(0,24,121)\n",
    "I=simps(scyt(t),t)\n",
    "print(\"一天总用水量为{}m³\".format(I))"
   ]
  },
  {
   "cell_type": "markdown",
   "id": "cf7ae230",
   "metadata": {},
   "source": [
    "### 知识点：\n",
    "第三章：三次样条插值  \n",
    "第五章：数值积分\n",
    " \n",
    "### 思政感悟：\n",
    "三次样条插值公式简单、运算量节省、稳定性好，满足了所需要的精度，还令插值函数具有一定的光滑性，改善了分段低次插值在节点处导数值不连续、插值多项式不光滑的缺点。而复合辛普森积分公式实质上是被积函数的分段埃尔米特插值的积分，让我们在不知道被积函数具体形式时，只根据已有数据就可计算积分。\n",
    "### 案例来源：\n",
    "https://max.book118.com/html/2016/0727/49392315.shtm#:~:text=%E6%B0%B4%E5%A1%94%E6%B0%B4%E6%B5%81%E9%87%8F%E7%9A%84%E4%BC%B0%E8%AE%A1%20%E4%B8%80%EF%BC%8E%E5%AE%9E%E9%AA%8C%E9%97%AE%E9%A2%98,%E6%9F%90%E5%B1%85%E6%B0%91%E5%8C%BA%E6%9C%89%E4%B8%80%E4%BE%9B%E5%B1%85%E6%B0%91%E7%94%A8%E6%B0%B4%E7%9A%84%E5%9C%86%E6%9F%B1%E5%BD%A2%E6%B0%B4%E5%A1%94%EF%BC%8C%E4%B8%80%E8%88%AC%E5%8F%AF%E4%BB%A5%E9%80%9A%E8%BF%87%E6%B5%8B%E9%87%8F%E5%85%B6%E6%B0%B4%E4%BD%8D%E6%9D%A5%E4%BC%B0%E8%AE%A1%E6%B0%B4%E7%9A%84%E6%B5%81%E9%87%8F%E3%80%82%20%E4%BD%86%E9%9D%A2%E4%B8%B4%E7%9A%84%E5%9B%B0%E9%9A%BE%E6%98%AF%EF%BC%8C%E5%BD%93%E6%B0%B4%E5%A1%94%E6%B0%B4%E4%BD%8D%E4%B8%8B%E9%99%8D%E5%88%B0%E8%AE%BE%E5%AE%9A%E7%9A%84%E6%9C%80%E4%BD%8E%E6%B0%B4%E4%BD%8D%E6%97%B6%EF%BC%8C%E6%B0%B4%E6%B3%B5%E8%87%AA%E5%8A%A8%E5%90%AF%E5%8A%A8%E5%90%91%E6%B0%B4%E5%A1%94%E4%BE%9B%E6%B0%B4%EF%BC%8C%E5%88%B0%E8%AE%BE%E5%AE%9A%E7%9A%84%E6%9C%80%E9%AB%98%E6%B0%B4%E4%BD%8D%E6%97%B6%E5%81%9C%E6%AD%A2%E4%BE%9B%E6%B0%B4%EF%BC%8C%E8%BF%99%E6%AE%B5%E6%97%B6%E9%97%B4%E6%97%A0%E6%B3%95%E6%B5%8B%E9%87%8F%E6%B0%B4%E5%A1%94%E7%9A%84%E6%B0%B4%E4%BD%8D%E5%92%8C%E6%B0%B4%E6%B3%B5%E7%9A%84%E4%BE%9B%E6%B0%B4%E9%87%8F%E3%80%82%20%E9%80%9A%E5%B8%B8%E6%B0%B4%E6%B3%B5%E6%AF%8F%E5%A4%A9%E4%BE%9B%E6%B0%B4%E4%B8%80%E6%AC%A1%EF%BC%8C%E6%AF%8F%E6%AC%A1%E7%BA%A62h%E3%80%82\n",
    "将水塔水位简化为水的流速，方便计算"
   ]
  },
  {
   "cell_type": "markdown",
   "id": "cb66dfc4",
   "metadata": {},
   "source": [
    "# 案例3\n",
    "### 题目描述：\n",
    "主成分分析算法（PCA）是最常用的线性降维方法，它的目标是通过某种线性投影，将高维的数据映射到低维的空间中，并期望在所投影的维度上数据的信息量最大（方差最大），以此使用较少的数据维度，同时保留住较多的原数据点的特性。求解步骤为 ： \n",
    "1.去除平均值  \n",
    "2.计算协方差矩阵  \n",
    "3.计算协方差矩阵的特征值和特征向量  \n",
    "4.将特征值排序  \n",
    "5.保留前N个最大的特征值对应的特征向量  \n",
    "6.将原始特征转换到上面得到的N个特征向量构建的新空间中（最后两步，实现了特征压缩）  \n",
    "在计算协方差矩阵的特征值和特征向量时，可以采用QR方法来计算矩阵的全部特征值。\n",
    "### 案例解答：\n",
    "不妨假设所要计算的协方差矩阵为$$A=\\begin{bmatrix}\n",
    " 5 & 2 & 2 & 1\\\\\n",
    " 2 & -3 & 1 & 1\\\\\n",
    " 2 & 1 & 3 & 1\\\\\n",
    " 1 & 1 & 1 & 2\n",
    "\\end{bmatrix}$$\n",
    "### 代码："
   ]
  },
  {
   "cell_type": "code",
   "execution_count": 23,
   "id": "e821d56b",
   "metadata": {},
   "outputs": [
    {
     "name": "stdout",
     "output_type": "stream",
     "text": [
      "[ 7.21833669 -3.60267036  1.99994695  1.38438673]\n"
     ]
    }
   ],
   "source": [
    "import numpy as np\n",
    "A=np.array([[5,2,2,1],[2,-3,1,1],[2,1,3,1],[1,1,1,2]])\n",
    "tol=10**(-4)\n",
    "err=1\n",
    "while err>tol:\n",
    "    q,r=np.linalg.qr(A)\n",
    "    A1=r.dot(q)\n",
    "    err=np.linalg.norm(np.diag(A1-A))\n",
    "    A=A1\n",
    "print(np.diag(A1))"
   ]
  },
  {
   "cell_type": "markdown",
   "id": "2c518c33",
   "metadata": {},
   "source": [
    "### 知识点： \n",
    "第八章 QR方法计算矩阵最大特征值\n",
    "### 思政感悟：\n",
    "QR方法在计算中小型矩阵全部特征值是非常的有效，并且相比于乘幂法、反幂法和结合原点平移的反幂法，具有收敛速度快、算法稳定的特点。从PCA则可以看出生活中其实很多熟知的算法的本质都是采用了数值计算的手段来达成的，正如主成分分析算法可以将其计算协方差矩阵的特征值部分次啊用QR方法来计算。\n",
    "### 案例来源：\n",
    "原创"
   ]
  },
  {
   "cell_type": "markdown",
   "id": "0a949128",
   "metadata": {},
   "source": [
    "# 案例4\n",
    "### 题目描述：\n",
    "如下图所示，设我舰发射导弹时位置在坐标原点，敌舰在x轴正向d(km)处，其行驶速度为a(km/h)，方向与轴夹角为$\\theta$，导弹飞行线速度为b(km/h)。求导弹击中敌舰的时间，并给出导弹飞行的轨迹。\n",
    "![‪jupyter](./1672055638711.jpg)\n",
    "### 案例解答：\n",
    "设在$t=t_{k}$时刻导弹的位置坐标是$\\left(x_{k},y_{k}\\right)$，敌舰的位置坐标是$\\left(\\tilde{x}_{k},\\tilde{y}_{k}\\right)=\\left(d+at_{k}\\cos\\theta,at_{k}\\sin\\theta\\right)$，追赶方向可用方向余弦表示为：$$\\cos\\alpha_{k}=\\frac{d+at_{k}\\cos\\theta-x_{k}}{\\sqrt{\\left(d+at_{k}\\cos\\theta-x_{k}\\right)^{2}+{\\left(at_{k}\\sin\\theta-y_{k}\\right)}^{2}}}$$\n",
    "$$\\sin\\alpha_{k}=\\frac{at_{k}\\sin\\theta-y_{k}}{\\sqrt{\\left(d+at_{k}\\cos\\theta-x_{k}\\right)^{2}+{\\left(at_{k}\\sin\\theta-y_{k}\\right)}^{2}}}$$\n",
    "令$x_{k}=\\tilde{x}_{k}$，即$\\int b\\cos\\alpha dt=d+at\\cos\\theta$，通过不动点迭代可以求得$t$。   \n",
    "取时间步长为$\\triangle t$，则在时刻$t_{k}+\\triangle t$导弹的位置为$\\left(x_{k+1},y_{k+1}\\right)$\n",
    "可得\n",
    "$$x_{k+1}-x_{k}=b\\triangle t\\cos\\alpha_{k}$$\n",
    "$$y_{k+1}-y_{k}=b\\triangle t\\sin\\alpha_{k}$$\n",
    "迭代后可得到导弹的轨迹。\n",
    "下面考虑$$a=0.2,b=1,d=1,\\theta=\\frac{\\pi}{2}$$\n",
    "### 代码："
   ]
  },
  {
   "cell_type": "code",
   "execution_count": 22,
   "id": "c8713442",
   "metadata": {},
   "outputs": [
    {
     "data": {
      "image/png": "[encoded data removed]",
      "text/plain": [
       "<Figure size 432x288 with 1 Axes>"
      ]
     },
     "metadata": {
      "needs_background": "light"
     },
     "output_type": "display_data"
    }
   ],
   "source": [
    "import numpy as np\n",
    "import matplotlib.pyplot as plt\n",
    "plt.rcParams['font.sans-serif'] = ['SimHei'] #用来正常显示中文标签\n",
    "plt.rcParams['axes.unicode_minus'] = False #用来正常显示负号\n",
    "from scipy.integrate import odeint\n",
    "\n",
    "#不动点迭代\n",
    "xl = 0  #区间下限\n",
    "xu = 0.11  #区间上限\n",
    "x = (xl+xu)/2  #迭代初始值\n",
    "x_list = [x]\n",
    "i = 0\n",
    "while True:\n",
    "    x = x ** 3 - 0.165 * x ** 2 + 3.993 * 10 ** (-4) + x\n",
    "    x_list.append(x)\n",
    "    if len(x_list) > 1:\n",
    "        i += 1\n",
    "        error = abs((x_list[-1] - x_list[-2]) / x_list[-1])\n",
    "        if error < 10**(-6):\n",
    "            break\n",
    "    else:\n",
    "        pass\n",
    "\n",
    "#欧拉法\n",
    "def uler(n,x0,t0,tn,f):\n",
    "    x = [x0]\n",
    "    t = [t0]\n",
    "    for i in range(n):\n",
    "        dt = (tn-t0)/n\n",
    "        tk = t[i]+dt\n",
    "        t.append(tk)\n",
    "        xk = x[i]+f(x[i])*dt\n",
    "        x.append(xk)\n",
    "    return x,t\n",
    "\n",
    "a=np.arange(0,1,0.037)\n",
    "yy=-5/8*(1-a)**0.8+5/12*(1-a)**1.2+5/24\n",
    "plt.figure()\n",
    "plt.plot(a, yy)\n",
    "plt.title(\"picture\")\n",
    "plt.show()"
   ]
  },
  {
   "cell_type": "markdown",
   "id": "3ba91e58",
   "metadata": {},
   "source": [
    "### 知识点：\n",
    "第七章 非线性方程求根  \n",
    "第九章 常微分方程初值问题数值解法\n",
    "### 思政感悟：\n",
    "非线性方程可以对应很多格式的不动点迭代法，采取适当的不动点迭代法有助于提高算法的效率，选取合适的迭代方法非常重要。除了少数特殊类型的微分方程能用解析方法得到精确解外，多数情况找不到解的解析表达式。因此，只能采用数值方法来求解微分方程，选取合适的数值公式来求解微分方程也有助于提升常微分方程初边值问题的精确性和效率。\n",
    "### 案例来源：\n",
    "https://wenku.baidu.com/view/dd00bd62783e0912a2162a2a.html?_wkts_=1672055478196  \n",
    "原问题采用仿真求解t，现问题采用不动点迭代求解t，增加求解导弹飞行轨迹。"
   ]
  },
  {
   "cell_type": "markdown",
   "id": "44725969",
   "metadata": {},
   "source": [
    "# 有限元\n",
    "## 问题描述\n",
    "已知在区域Ω= [0, 1] × [0, 1]上，二维椭圆方程的Dirichlet边值问题如下定义:\n",
    "$-∆u+2u=2(π^2+1)sin⁡(πx)sin⁡(πy),(x,y)∈Ω,u=0,(x,y)∈∂Ω$\n",
    "其中真实解$u(x,y)=sin⁡(πx)sin⁡(πy)$。试完成以下题目:  \n",
    "(1) 请写出上述问题的变分形式，以及相应有限元的离散变分形式;  \n",
    "(2) 选取分片线形连续的有限元空间，依照(1)问中的变分形式计算上述问题的有限元解并与真实解比较. 你需要作出三张二维热力图(参考matplotlib中的imshow方法)，分别对应真实解，有限元解和绝对误差，以此来验证你的结果;  \n",
    "(3) 理论上(2)中有限元解L2范数的收敛阶为$O(h2)$，试验证之.\n",
    "## 解答\n",
    "### 1.1 变分形式\n",
    "考虑空间V：\n",
    "$$V=H_0^1 (Ω)=\\left\\{v|∬_Ω[v^2+(∂v/∂x)^2+(∂v/∂y)^2 ]  dxdy<∞,v|_{∂Ω}=0\\right\\}$$\n",
    "令\n",
    "$$f(x,y)=2(π^2+1)sin⁡(πx)sin⁡(πy)$$\n",
    "有\n",
    "$$-∆u+2u=f$$\n",
    "同时乘上v得，\n",
    "$$-∆uv+2uv=fv$$\n",
    "同时积分得，\n",
    "$$∬_Ω-∆uv∙dxdy+∬_Ω2uv∙dxdy=∬_Ωfv∙dxdy$$\n",
    "根据格林公式，\n",
    "$$-∬_Ω∆uv∙dxdy=∬_Ω∇u∙∇v∙dxdy-∫_{∂Ω}\\frac{∂u}{∂n} vds$$\n",
    "由于在空间V中，\n",
    "$$v|_{∂Ω}=0$$\n",
    "式可以改写为，\n",
    "$$∬_Ω∇u∙∇v∙dxdy+∬_Ω2uv∙dxdy=∬_Ωfv∙dxdy$$\n",
    "问题转化为变分形式：\n",
    "$$find \\quad u∈V\\quad s.t.$$\n",
    "$$D(u,v)-F(v)=0,∀v∈V$$\n",
    "其中，\n",
    "$$D(u,v)=∬_Ω∇u∙∇v∙dxdy+∬_Ω2uv∙dxdy$$\n",
    "$$F(v)=∬_Ωfv∙dxdy$$\n",
    "### 1.2 有限元的离散变分形式\n",
    "定义Vh为V的一个n维子空间，\n",
    "$$V_h=\\left\\{v_h∈C(Ω ̅ ):v_h |_{e_i}=ax+by+c\\right\\}$$\n",
    "求近似解，\n",
    "$$find \\quad u_h∈V_h s.t.$$\n",
    "$$D(u_h,v_h )-F(v_h)=0,∀v_h∈V_h $$\n",
    "任取一个单元\n",
    "$$e_n=∆P_i P_j P_m$$\n",
    "其中，\n",
    "$$P_i=(x_i,y_i);P_j=(x_j,y_j);P_m=(x_m,y_m)$$\n",
    "$$v=Nv_{e_n}$$\n",
    "$$u=Nu_{e_n}$$\n",
    "$$∇v=Bv_{e_n}$$\n",
    "$$∇u=Bu_{e_n}$$\n",
    "利用上式将积分式离散化，\n",
    "$$∑_{e_n}∬_{e_n}(Bv_{e_n})^T∙Bu_{e_n}∙dxdy+∑_{e_n}∬_{e_n}2(Nv_{e_n})^T∙Nu_{e_n}∙dxdy=∑_{e_n}∬_{e_n}(Nv_{e_n})^T∙f∙dxdy$$\n",
    "整理顺序，得到刚度矩阵的表达式：\n",
    "$$v_{e_n}^T\\left[∑_{e_n}∬_{e_n}(B)^T∙B∙dxdy+∑_{e_n}∬_{e_n}2(N)^T∙N∙dxdy\\right] u_{e_n}={v_{e_n}}^T ∑_{e_n}∬_{e_n}(N)^T∙f∙dxdy$$\n",
    "### 2.计算有限元解\n",
    "对区域$Ω= [0, 1] × [0, 1]$，采用线性三角形单元，将区域Ω划分成$2N_x×N_y$的三角形单元。每个三角形单元由三个节点组成，每个节点有单元内的局部坐标和整体坐标，分别储存在points类和triangleelement类中。\n",
    "#### 代码："
   ]
  },
  {
   "cell_type": "code",
   "execution_count": 1,
   "id": "a7cef493",
   "metadata": {},
   "outputs": [],
   "source": [
    "import numpy as np"
   ]
  },
  {
   "cell_type": "code",
   "execution_count": 2,
   "id": "49e77f20",
   "metadata": {},
   "outputs": [],
   "source": [
    "Nx = 100\n",
    "Ny = 100\n",
    "\n",
    "\n",
    "class Points:\n",
    "    x_space = np.linspace(0, 1, Nx + 1, endpoint=True)\n",
    "    y_space = np.linspace(0, 1, Ny + 1, endpoint=True)\n",
    "    yy, xx = np.meshgrid(y_space, x_space)\n",
    "    xy = np.stack([xx, yy], axis=2)\n",
    "\n",
    "    @staticmethod\n",
    "    def get(i):\n",
    "        return Points.xy[i[0], i[1]]\n",
    "\n",
    "    @staticmethod\n",
    "    def global_idx(i):\n",
    "        return i[0] * (Nx + 1) + i[1]\n",
    "\n",
    "\n",
    "#   只是存储点的全局指标，点的全局指标转换成坐标由Points全权负责\n",
    "\n",
    "class TriangleElement:\n",
    "    def __init__(self, i, j, k):\n",
    "        self.i = i\n",
    "        self.j = j\n",
    "        self.k = k\n",
    "    @property\n",
    "    def p1(self):\n",
    "        return Points.get(self.i)\n",
    "    @property\n",
    "    def p2(self):\n",
    "        return Points.get(self.j)\n",
    "    @property\n",
    "    def p3(self):\n",
    "        return Points.get(self.k)\n",
    "    @property\n",
    "    def area(self):\n",
    "        # 既然是均匀网格，可以简单地\n",
    "        # return 1 / Nx / Ny /2\n",
    "        return (self.p2[0] * self.p3[1] - self.p2[1] * self.p3[0] +\n",
    "                self.p3[0] * self.p1[1] - self.p3[1] * self.p1[0] +\n",
    "                self.p1[0] * self.p2[1] - self.p1[1] * self.p2[0]) / 2\n",
    "    \n",
    "    def add_local_stiffness(self, global_stiffness: np.array):\n",
    "        gi = Points.global_idx(self.i)\n",
    "        gj = Points.global_idx(self.j)\n",
    "        gk = Points.global_idx(self.k)\n",
    "        sub_idx = [gi, gj, gk]\n",
    "        i, j, k = Points.get(self.i), Points.get(self.j), Points.get(self.k)\n",
    "        local_stiff = np.sum(np.array(\n",
    "            [[(j - k) ** 2, (i - k) * (k - j), (i - j) * (j - k)],\n",
    "             [(i - k) * (k - j), (i - k) ** 2, (k - i) * (i - j)],\n",
    "             [(i - j) * (j - k), (k - i) * (i - j), (i - j) ** 2]]), axis=2) / self.area / 4\n",
    "        global_stiffness[np.ix_(sub_idx, sub_idx)] += local_stiff\n",
    "    \n",
    "    def add_local_load(self, f: callable, global_load: np.array):\n",
    "        gi = Points.global_idx(self.i)\n",
    "        gj = Points.global_idx(self.j)\n",
    "        gk = Points.global_idx(self.k)\n",
    "        i, j, k = Points.get(self.i), Points.get(self.j), Points.get(self.k)\n",
    "\n",
    "        def compose_fun(local_idx):\n",
    "            if local_idx == 0:\n",
    "                li, lj, lk = i, j, k\n",
    "            if local_idx == 1:\n",
    "                lk, li, lj = i, j, k\n",
    "            if local_idx == 2:\n",
    "                lj, lk, li = i, j, k\n",
    "\n",
    "            def _fun(x, y):\n",
    "                _r = (x * lj[1] - lj[0] * y + lj[0] * lk[1] + lk[0] * y - x * lk[1] - lk[0] * lj[1]) / 2 / self.area\n",
    "                return _r * f(x, y)\n",
    "\n",
    "            return _fun\n",
    "\n",
    "        global_load[gi] += self.quadrature(compose_fun(0))\n",
    "        global_load[gj] += self.quadrature(compose_fun(1))\n",
    "        global_load[gk] += self.quadrature(compose_fun(2))\n",
    "        return self.quadrature(compose_fun(0)), self.quadrature(compose_fun(1)), self.quadrature(compose_fun(2))\n",
    "    def quadrature(self, q: callable):\n",
    "        # return f((self.p1[0] + self.p2[0] + self.p3[0]) / 3, (self.p1[1] + self.p2[1] + self.p3[1]) / 3) * self.area\n",
    "        return (q((self.p1[0] + self.p2[0]) / 2, (self.p1[1] + self.p2[1]) / 2) +\n",
    "                q((self.p2[0] + self.p3[0]) / 2, (self.p2[1] + self.p3[1]) / 2) +\n",
    "                q((self.p3[0] + self.p1[0]) / 2, (self.p3[1] + self.p1[1]) / 2)) / 3 * self.area\n",
    "\n",
    "    def add_local_stiffness2(self, global_stiffness: np.array): #对u这一项的刚度进行计算\n",
    "        gi = Points.global_idx(self.i)\n",
    "        gj = Points.global_idx(self.j)\n",
    "        gk = Points.global_idx(self.k)\n",
    "        sub_idx = [gi, gj, gk]\n",
    "        i, j, k = Points.get(self.i), Points.get(self.j), Points.get(self.k)\n",
    "\n",
    "        def compose_fun2(local_idx1,local_idx2):\n",
    "            if local_idx1 == 0:\n",
    "                li, lj, lk = i, j, k\n",
    "            if local_idx1 == 1:\n",
    "                lk, li, lj = i, j, k\n",
    "            if local_idx1 == 2:\n",
    "                lj, lk, li = i, j, k\n",
    "\n",
    "            if local_idx2 == 0:\n",
    "                mi, mj, mk = i, j, k\n",
    "            if local_idx2 == 1:\n",
    "                mk, mi, mj = i, j, k\n",
    "            if local_idx2 == 2:\n",
    "                mj, mk, mi = i, j, k\n",
    "\n",
    "            def _fun2(x, y):\n",
    "                _r2= ((lj[1]-lk[1])*(mj[1]-mk[1])*x*x + (lj[1]-lk[1])*(mk[0]-mj[0])*x*y + (lj[1]-lk[1])*(mj[0]*mk[1]-mk[0]*mj[1])* x +\n",
    "                      (lk[0]-lj[0])*(mj[1]-mk[1])*y*x + (lk[0]-lj[0])*(mk[0]-mj[0])*y*y + (lk[0]-lj[0])*(mj[0]*mk[1]-mk[0]*mj[1])* y +\n",
    "                      (lj[0]*lk[1]-lk[0]*lj[1])*(mj[1]-mk[1])*x + (lj[0]*lk[1]-lk[0]*lj[1])*(mk[0]-mj[0])*y + (lj[0]*lk[1]-lk[0]*lj[1])*(mj[0]*mk[1]-mk[0]*mj[1]) )/ 4 / self.area / self.area\n",
    "                return _r2 \n",
    "\n",
    "            return _fun2\n",
    "        \n",
    "        for _i in range(0,3):\n",
    "            for _j in range(0,3):\n",
    "                \n",
    "                local_stiff2 =  np.zeros((3, 3))\n",
    "                \n",
    "                local_stiff2[np.ix_([_i], [_j])] += self.quadrature(compose_fun2(_i,_j))\n",
    "\n",
    "        \n",
    "        def quadrature(self, q: callable):\n",
    "        # return f((self.p1[0] + self.p2[0] + self.p3[0]) / 3, (self.p1[1] + self.p2[1] + self.p3[1]) / 3) * self.area\n",
    "            return (q((self.p1[0] + self.p2[0]) / 2, (self.p1[1] + self.p2[1]) / 2) +\n",
    "                q((self.p2[0] + self.p3[0]) / 2, (self.p2[1] + self.p3[1]) / 2) +\n",
    "                q((self.p3[0] + self.p1[0]) / 2, (self.p3[1] + self.p1[1]) / 2)) / 3 * self.area\n",
    "\n",
    "        \n",
    "\n",
    "        global_stiffness[np.ix_(sub_idx, sub_idx)] += local_stiff2"
   ]
  },
  {
   "cell_type": "code",
   "execution_count": 3,
   "id": "0239833f",
   "metadata": {},
   "outputs": [],
   "source": [
    "import matplotlib.pyplot as plt\n",
    "plt.rcParams['font.sans-serif']=['SimHei'] #显示中文\n",
    "import math\n",
    "pai=math.pi"
   ]
  },
  {
   "cell_type": "code",
   "execution_count": 4,
   "id": "b02e266f",
   "metadata": {},
   "outputs": [],
   "source": [
    "def q(xx, yy):\n",
    "    return 2 *(pai**2+1)*math.sin(pai*xx)*math.sin(pai*yy)\n",
    "\n",
    "element_list = []\n",
    "for ix in range(Nx):\n",
    "    for iy in range(Ny):\n",
    "        element_list.append(TriangleElement((ix, iy), (ix + 1, iy), (ix, iy + 1)))\n",
    "        element_list.append(TriangleElement((ix, iy + 1), (ix + 1, iy), (ix + 1, iy + 1)))\n",
    "global_stiffness = np.zeros(((Nx + 1) * (Ny + 1), (Nx + 1) * (Ny + 1)))"
   ]
  },
  {
   "cell_type": "code",
   "execution_count": 5,
   "id": "fe048134",
   "metadata": {},
   "outputs": [
    {
     "name": "stdout",
     "output_type": "stream",
     "text": [
      "[[ 1.  -0.5  0.  ...  0.   0.   0. ]\n",
      " [-0.5  2.  -0.5 ...  0.   0.   0. ]\n",
      " [ 0.  -0.5  2.  ...  0.   0.   0. ]\n",
      " ...\n",
      " [ 0.   0.   0.  ...  2.  -0.5  0. ]\n",
      " [ 0.   0.   0.  ... -0.5  2.  -0.5]\n",
      " [ 0.   0.   0.  ...  0.  -0.5  1. ]]\n",
      "[[ 1.         -0.5         0.         ...  0.          0.\n",
      "   0.        ]\n",
      " [-0.5         2.00000833 -0.5        ...  0.          0.\n",
      "   0.        ]\n",
      " [ 0.         -0.5         2.00000833 ...  0.          0.\n",
      "   0.        ]\n",
      " ...\n",
      " [ 0.          0.          0.         ...  2.00000833 -0.5\n",
      "   0.        ]\n",
      " [ 0.          0.          0.         ... -0.5         2.00000833\n",
      "  -0.5       ]\n",
      " [ 0.          0.          0.         ...  0.         -0.5\n",
      "   1.00000833]]\n"
     ]
    },
    {
     "data": {
      "image/png": "[encoded data removed]",
      "text/plain": [
       "<Figure size 432x288 with 1 Axes>"
      ]
     },
     "metadata": {
      "needs_background": "light"
     },
     "output_type": "display_data"
    }
   ],
   "source": [
    "[te.add_local_stiffness(global_stiffness) for te in element_list]\n",
    "print (global_stiffness)\n",
    "[te.add_local_stiffness2(global_stiffness) for te in element_list]\n",
    "print (global_stiffness)\n",
    "interior_idx = (Nx + 1) * np.arange(1, Nx).reshape(Nx - 1, 1) + np.arange(1, Ny).reshape(1, Ny - 1)\n",
    "interior_idx = interior_idx.ravel()\n",
    "global_stiffness = global_stiffness[np.ix_(interior_idx, interior_idx)]\n",
    "global_load = np.zeros((Nx + 1) * (Ny + 1))\n",
    "[te.add_local_load(q, global_load) for te in element_list]\n",
    "global_load = global_load[interior_idx]\n",
    "res = np.linalg.solve(global_stiffness, global_load)\n",
    "res = res.reshape(Nx - 1, Ny - 1)\n",
    "res = np.pad(res, pad_width=1, mode='constant', constant_values=0)\n",
    "plt.pcolormesh(Points.xx, Points.yy, res)\n",
    "plt.title('图1 有限元解（100x100）')\n",
    "plt.show()"
   ]
  },
  {
   "cell_type": "code",
   "execution_count": 6,
   "id": "db94d7d3",
   "metadata": {},
   "outputs": [
    {
     "data": {
      "text/plain": [
       "array([[0.        , 0.        , 0.        , ..., 0.        , 0.        ,\n",
       "        0.        ],\n",
       "       [0.        , 0.00107705, 0.00215314, ..., 0.0021544 , 0.00107778,\n",
       "        0.        ],\n",
       "       [0.        , 0.00215314, 0.00430427, ..., 0.00430655, 0.0021544 ,\n",
       "        0.        ],\n",
       "       ...,\n",
       "       [0.        , 0.0021544 , 0.00430655, ..., 0.00430427, 0.00215314,\n",
       "        0.        ],\n",
       "       [0.        , 0.00107778, 0.0021544 , ..., 0.00215314, 0.00107705,\n",
       "        0.        ],\n",
       "       [0.        , 0.        , 0.        , ..., 0.        , 0.        ,\n",
       "        0.        ]])"
      ]
     },
     "execution_count": 6,
     "metadata": {},
     "output_type": "execute_result"
    }
   ],
   "source": [
    "res"
   ]
  },
  {
   "cell_type": "code",
   "execution_count": 7,
   "id": "89b16d34",
   "metadata": {},
   "outputs": [
    {
     "data": {
      "text/plain": [
       "array([[0.00000000e+00, 0.00000000e+00, 0.00000000e+00, ...,\n",
       "        0.00000000e+00, 0.00000000e+00, 0.00000000e+00],\n",
       "       [0.00000000e+00, 9.86635786e-04, 1.97229788e-03, ...,\n",
       "        1.97229788e-03, 9.86635786e-04, 3.84670856e-18],\n",
       "       [0.00000000e+00, 1.97229788e-03, 3.94264934e-03, ...,\n",
       "        3.94264934e-03, 1.97229788e-03, 7.68962088e-18],\n",
       "       ...,\n",
       "       [0.00000000e+00, 1.97229788e-03, 3.94264934e-03, ...,\n",
       "        3.94264934e-03, 1.97229788e-03, 7.68962088e-18],\n",
       "       [0.00000000e+00, 9.86635786e-04, 1.97229788e-03, ...,\n",
       "        1.97229788e-03, 9.86635786e-04, 3.84670856e-18],\n",
       "       [0.00000000e+00, 3.84670856e-18, 7.68962088e-18, ...,\n",
       "        7.68962088e-18, 3.84670856e-18, 1.49975978e-32]])"
      ]
     },
     "execution_count": 7,
     "metadata": {},
     "output_type": "execute_result"
    }
   ],
   "source": [
    "x = np.linspace(0,1,Nx+1)\n",
    "y = np.linspace(0,1,Ny+1)\n",
    "I = np.zeros((Nx+1,Ny+1))\n",
    "for ii in range(Nx+1):\n",
    "    for jj in range(Ny+1):\n",
    "        I[np.ix_([ii], [jj])] = math.sin(pai*x[ii])*math.sin(pai*y[jj])\n",
    "I"
   ]
  },
  {
   "cell_type": "code",
   "execution_count": 8,
   "id": "32359961",
   "metadata": {},
   "outputs": [
    {
     "data": {
      "image/png": "[encoded data removed]",
      "text/plain": [
       "<Figure size 432x288 with 1 Axes>"
      ]
     },
     "metadata": {
      "needs_background": "light"
     },
     "output_type": "display_data"
    }
   ],
   "source": [
    "plt.pcolormesh(x, y, I)\n",
    "plt.title('图2 精确解（100x100）')\n",
    "plt.show()"
   ]
  },
  {
   "cell_type": "code",
   "execution_count": 9,
   "id": "506d8a94",
   "metadata": {},
   "outputs": [
    {
     "data": {
      "text/plain": [
       "array([[ 0.00000000e+00,  0.00000000e+00,  0.00000000e+00, ...,\n",
       "         0.00000000e+00,  0.00000000e+00,  0.00000000e+00],\n",
       "       [ 0.00000000e+00, -9.04190489e-05, -1.80837809e-04, ...,\n",
       "        -1.82102616e-04, -9.11407526e-05,  3.84670856e-18],\n",
       "       [ 0.00000000e+00, -1.80837809e-04, -3.61620900e-04, ...,\n",
       "        -3.63901772e-04, -1.82102616e-04,  7.68962088e-18],\n",
       "       ...,\n",
       "       [ 0.00000000e+00, -1.82102616e-04, -3.63901772e-04, ...,\n",
       "        -3.61620900e-04, -1.80837809e-04,  7.68962088e-18],\n",
       "       [ 0.00000000e+00, -9.11407526e-05, -1.82102616e-04, ...,\n",
       "        -1.80837809e-04, -9.04190489e-05,  3.84670856e-18],\n",
       "       [ 0.00000000e+00,  3.84670856e-18,  7.68962088e-18, ...,\n",
       "         7.68962088e-18,  3.84670856e-18,  1.49975978e-32]])"
      ]
     },
     "execution_count": 9,
     "metadata": {},
     "output_type": "execute_result"
    }
   ],
   "source": [
    "tol = I - res\n",
    "tol"
   ]
  },
  {
   "cell_type": "code",
   "execution_count": 10,
   "id": "7da5a7fa",
   "metadata": {},
   "outputs": [
    {
     "data": {
      "image/png": "[encoded data removed]",
      "text/plain": [
       "<Figure size 432x288 with 1 Axes>"
      ]
     },
     "metadata": {
      "needs_background": "light"
     },
     "output_type": "display_data"
    }
   ],
   "source": [
    "plt.pcolormesh(x, y, tol)\n",
    "plt.title('图3 有限元解与精确解的误差（100x100）')\n",
    "plt.show()"
   ]
  },
  {
   "cell_type": "markdown",
   "id": "58237aa5",
   "metadata": {},
   "source": [
    "### 3.验证收敛阶\n",
    "采用不同尺寸的网格计算，可以得到误差函数随网格尺寸h的变化关系，如分别采用$$(Δx,Δt), 1/2 (Δx,Δt), 1/4 (Δx,Δt)的步长进行计算，得到R(∆x), R(1/2 ∆x), R(1/4 ∆x)$$\n",
    "由于，\n",
    "$$R(∆x)=E(∆x)+O({∆x}^{p+1})≈C∙{∆x}^p$$\n",
    "那么，\n",
    "$$\\frac{R(∆x)}{R(\\frac{1}{2}{∆x})} =\\frac{C∙{∆x}^p}{C∙{(\\frac{∆x}{2})}^p}$$\n",
    "因此收敛精度p可以采用下式进行估计\n",
    "$$p=\\frac{log\\left(R(∆x)⁄R(\\frac{1}{2}{∆x})\\right)}{log2}$$\n",
    "计算所得的误差L2范数列为表1， \n",
    "\n",
    "| 单元划分 | L2范数 | 收敛阶 |\n",
    "| :------: | :---------: | :---------: |\n",
    "| 2 | 0.0908 | 1.8492 |\n",
    "| 4 | 0.0252 | 1.9549 |\n",
    "| 8 | 0.0065 | 2.0223 |\n",
    "| 16 | 0.0016 | 1.9707 |\n",
    "| 32 | 4.0821e-04 | 1.9993 |\n",
    "| 64 | 1.0210e-04 | - |\n",
    "\n",
    "\n",
    "因此，(2)中有限元解L2范数的收敛阶为$O(h^2)$。"
   ]
  },
  {
   "cell_type": "code",
   "execution_count": null,
   "id": "582f971f",
   "metadata": {},
   "outputs": [],
   "source": []
  }
 ],
 "metadata": {
  "kernelspec": {
   "display_name": "Python 3 (ipykernel)",
   "language": "python",
   "name": "python3"
  },
  "language_info": {
   "codemirror_mode": {
    "name": "ipython",
    "version": 3
   },
   "file_extension": ".py",
   "mimetype": "text/x-python",
   "name": "python",
   "nbconvert_exporter": "python",
   "pygments_lexer": "ipython3",
   "version": "3.9.12"
  }
 },
 "nbformat": 4,
 "nbformat_minor": 5
}
