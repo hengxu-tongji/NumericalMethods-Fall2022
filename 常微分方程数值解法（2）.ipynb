{
 "cells": [
  {
   "cell_type": "markdown",
   "id": "d6cfb59e",
   "metadata": {},
   "source": [
    "# 1.刚性问题\n",
    "### 代码："
   ]
  },
  {
   "cell_type": "code",
   "execution_count": 1,
   "id": "f56e5cad",
   "metadata": {},
   "outputs": [
    {
     "name": "stdout",
     "output_type": "stream",
     "text": [
      "自适应步长算法（采用梯形公式）计算结果和步长：\n",
      "0.9933574774506014\n",
      "0.038461538461538464\n"
     ]
    }
   ],
   "source": [
    "import numpy as np\n",
    "import scipy.optimize as opt\n",
    "import math\n",
    "f=lambda x,y:5*math.exp(5*x)*(y-x)**2+1\n",
    "#梯形公式\n",
    "def tra(f,a,b,y0,n):\n",
    "    y1=y0\n",
    "    x=a\n",
    "    y=y0\n",
    "    ys=np.zeros(n+1)\n",
    "    ys[0]=y0\n",
    "    h=(b-a)/n\n",
    "    g=lambda y,x,z:y-z-0.5*h*(f(x,z)+f(x+h,y))\n",
    "    for i in range(n):\n",
    "        y=opt.newton(g,y1,args=(x,y1))\n",
    "        x+=h\n",
    "        y1=y\n",
    "        ys[i+1]=y\n",
    "    return y,ys\n",
    "Y=1-math.exp(-5)\n",
    "err=1\n",
    "N=3\n",
    "while err>1e-4:\n",
    "    Y1=tra(f,0,1,-1,N)\n",
    "    err=abs(Y1[0]-Y)\n",
    "    N=N+1\n",
    "h=0.5/N\n",
    "print(\"自适应步长算法（采用梯形公式）计算结果和步长：\")\n",
    "print(Y1[0])\n",
    "print(h)"
   ]
  },
  {
   "cell_type": "markdown",
   "id": "0a5c7e71",
   "metadata": {},
   "source": [
    "# 2.常微分方程组\n",
    "### 代码："
   ]
  },
  {
   "cell_type": "code",
   "execution_count": 2,
   "id": "7b1f6c93",
   "metadata": {},
   "outputs": [
    {
     "name": "stdout",
     "output_type": "stream",
     "text": [
      "自适应步长算法（采用4阶龙格库塔公式）计算结果和步长：\n",
      "[ 0.90811791 -0.44739226]\n",
      "0.022727272727272728\n"
     ]
    }
   ],
   "source": [
    "import numpy as np\n",
    "import math\n",
    "from numpy.linalg import norm\n",
    "A=np.array([[32,66],[-66,-133]])\n",
    "f=lambda x,y:A.dot(y)+np.array([2/3*x+2/3,-1/3*x+1/3])\n",
    "def rungekutta(f,a,b,y0,n):\n",
    "    x=a\n",
    "    h=(b-a)/n\n",
    "    y_data=np.zeros((n+1,2))\n",
    "    y=y_data[0]=y0\n",
    "    for i in range(n):\n",
    "        s1=f(x,y)\n",
    "        s2=f(x+h/2,y+s1*h/2)\n",
    "        s3=f(x+h/2,y+s2*h/2)\n",
    "        s4=f(x+h,y+h*s3)\n",
    "        x+=h\n",
    "        y+=h/6*(s1+s2*2+s3*2+s4)\n",
    "        y_data[i+1]=y\n",
    "    return y,y_data\n",
    "N=1\n",
    "Y1=rungekutta(f,0,0.5,np.array([1/3,1/3]),N)\n",
    "err=2\n",
    "while err>1e-4:\n",
    "    N=N+1\n",
    "    Y2=rungekutta(f,0,0.5,np.array([1/3,1/3]),N)\n",
    "    err=norm((Y2[0]-Y1[0]),2)\n",
    "    Y1=Y2\n",
    "h=0.5/N\n",
    "print(\"自适应步长算法（采用4阶龙格库塔公式）计算结果和步长：\")\n",
    "print(Y1[0])\n",
    "print(h)"
   ]
  },
  {
   "cell_type": "code",
   "execution_count": null,
   "id": "d6ac4867",
   "metadata": {},
   "outputs": [],
   "source": []
  }
 ],
 "metadata": {
  "kernelspec": {
   "display_name": "Python 3 (ipykernel)",
   "language": "python",
   "name": "python3"
  },
  "language_info": {
   "codemirror_mode": {
    "name": "ipython",
    "version": 3
   },
   "file_extension": ".py",
   "mimetype": "text/x-python",
   "name": "python",
   "nbconvert_exporter": "python",
   "pygments_lexer": "ipython3",
   "version": "3.9.12"
  }
 },
 "nbformat": 4,
 "nbformat_minor": 5
}
