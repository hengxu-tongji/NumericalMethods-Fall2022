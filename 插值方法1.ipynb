{
 "cells": [
  {
   "cell_type": "markdown",
   "id": "287e941f",
   "metadata": {},
   "source": [
    "# 1.秦九韶算法\n",
    "### 代码："
   ]
  },
  {
   "cell_type": "code",
   "execution_count": 1,
   "id": "a5f10c30",
   "metadata": {},
   "outputs": [
    {
     "name": "stdout",
     "output_type": "stream",
     "text": [
      "1073741793\n",
      "0.000109600000000043\n",
      "1073741793\n",
      "4.97999999997667e-05\n"
     ]
    }
   ],
   "source": [
    "import numpy as np\n",
    "import time\n",
    "from functools import reduce\n",
    "\n",
    "def qFun(factors,x):\n",
    "    sum = factors[0]\n",
    "    for i in range(len(factors)-1):\n",
    "        sum=sum*x+factors[i+1]\n",
    "    return sum\n",
    "\n",
    "def zjFun(factors,x):\n",
    "    r=0\n",
    "    l=len(factors)\n",
    "    for i in range(l):\n",
    "        r=r+factors[i]*x**(l-i-1)\n",
    "    return r\n",
    "\n",
    "factors =np.arange(30)\n",
    "x=2\n",
    "start=time.perf_counter()\n",
    "print(qFun(factors,x))\n",
    "end=time.perf_counter()\n",
    "print(end-start)\n",
    "\n",
    "start1=time.perf_counter()\n",
    "x=2\n",
    "print(zjFun(factors,x))\n",
    "end1=time.perf_counter()\n",
    "print(end1-start1)"
   ]
  },
  {
   "cell_type": "markdown",
   "id": "224610d4",
   "metadata": {},
   "source": [
    "本题中采用多项式$y=\\sum\\limits_{i = 0}^{29}{(29-i)\\cdot x^{i}}$对x=2时求解（修改多项式可在程序开头处设置），结果表示：采用秦九韶算法运算量更小，时间更快"
   ]
  },
  {
   "cell_type": "markdown",
   "id": "76bb446a",
   "metadata": {},
   "source": [
    "# 2.牛顿插值\n",
    "### 代码："
   ]
  },
  {
   "cell_type": "code",
   "execution_count": 1,
   "id": "e018bb55",
   "metadata": {},
   "outputs": [
    {
     "name": "stdout",
     "output_type": "stream",
     "text": [
      "请依次输入待计算x_点，插值节点与对应函数值\n",
      "11.75\n",
      "11 12 13\n",
      "2.3979 2.4849 2.5649\n",
      "牛顿插值多项式为y=0.0870000000000002*x - 0.00350000000000006*(x - 12.0)*(x - 11.0) + 1.4409\n",
      "x_处函数值为2.4638062500000024\n"
     ]
    }
   ],
   "source": [
    "import numpy as np\n",
    "import math\n",
    "import sympy\n",
    "from sympy import *\n",
    "\n",
    "def Input():\n",
    "    x_ = np.double(input())\n",
    "    X = np.array(input().split(), dtype=np.double)\n",
    "    Y = np.array(input().split(), dtype=np.double)\n",
    "    return x_, X, Y\n",
    "\n",
    "def Newton(X, Y):\n",
    "    n = len(X)\n",
    "    D = np.zeros([n, n], dtype=np.double)\n",
    "    D[:, 0] = Y\n",
    "    for j in range(1, n):\n",
    "        for k in range(j, n):\n",
    "            D[k, j] = (D[k, j - 1] - D[k - 1, j - 1]) / (X[k] - X[k - j])     \n",
    "    C=np.zeros(n,dtype=np.double)\n",
    "    for j in range(n):\n",
    "        C[j]=D[j,j]\n",
    "    return C, D\n",
    "\n",
    "def main():\n",
    "    print(\"请依次输入待计算x_点，插值节点与对应函数值\")\n",
    "    x_, X, Y = Input()\n",
    "    C, D = Newton(X, Y)\n",
    "    #print(C)\n",
    "    #print(D)\n",
    "    n=len(X)\n",
    "    x=sympy.Symbol(\"x\")\n",
    "    y=0\n",
    "    for i in range(n):\n",
    "        z=1\n",
    "        for j in range(i):\n",
    "            z=(x-X[j])*z\n",
    "        y=C[i]*z+y\n",
    "    print(\"牛顿插值多项式为y={}\".format(y))\n",
    "    f=f=lambdify(x,y)\n",
    "    print(\"x_处函数值为{}\".format(f(x_)))\n",
    "    \n",
    "if __name__ == '__main__':\n",
    "    main()"
   ]
  },
  {
   "cell_type": "markdown",
   "id": "94d76c74",
   "metadata": {},
   "source": [
    "在输入框中，第一行输入待计算x_点，第二行依次输入插值节点，第三行依次输入插值节点对应函数值。 将输出牛顿插值多项式y与其在x_处的函数值"
   ]
  },
  {
   "cell_type": "code",
   "execution_count": null,
   "id": "b99d3310",
   "metadata": {},
   "outputs": [],
   "source": []
  }
 ],
 "metadata": {
  "kernelspec": {
   "display_name": "Python 3 (ipykernel)",
   "language": "python",
   "name": "python3"
  },
  "language_info": {
   "codemirror_mode": {
    "name": "ipython",
    "version": 3
   },
   "file_extension": ".py",
   "mimetype": "text/x-python",
   "name": "python",
   "nbconvert_exporter": "python",
   "pygments_lexer": "ipython3",
   "version": "3.9.12"
  }
 },
 "nbformat": 4,
 "nbformat_minor": 5
}
