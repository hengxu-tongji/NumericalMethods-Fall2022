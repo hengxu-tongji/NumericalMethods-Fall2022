{
 "cells": [
  {
   "cell_type": "markdown",
   "id": "a1e1a30a",
   "metadata": {},
   "source": [
    "# 1.预处理共轭梯度法\n",
    "### （1）代码："
   ]
  },
  {
   "cell_type": "code",
   "execution_count": 3,
   "id": "33c84c89",
   "metadata": {},
   "outputs": [
    {
     "name": "stdout",
     "output_type": "stream",
     "text": [
      "输入Nx: 1\n",
      "输入Ny: 2\n",
      "输入最大迭代步数K: 100\n",
      "输入控制精度: 0.0001\n",
      "采用共轭梯度法：\n",
      "itter,res= 0 2.449489742783178\n",
      "itter,res= 1 1.9999999999999998\n",
      "itter,res= 2 0.1506131137016414\n",
      "itter,res= 3 1.874785894044092e-16\n",
      "[0.9047619  1.19047619 1.42857143 1.42857143 1.19047619 0.9047619 ]\n",
      "采用预处理共轭梯度法：\n",
      "itter,res= 0 2.449489742783178\n",
      "itter,res= 1 1.025343984990944\n",
      "itter,res= 2 0.07596999645317781\n",
      "itter,res= 3 0.03180065527220345\n",
      "itter,res= 4 0.002356180660931365\n",
      "itter,res= 5 0.0009862852764970754\n",
      "itter,res= 6 7.30760506270063e-05\n",
      "[0.90473491 1.19044067 1.42852881 1.42852881 1.19044067 0.90473491]\n"
     ]
    }
   ],
   "source": [
    "import numpy as np\n",
    "from numpy.linalg import inv,norm\n",
    "\n",
    "#共轭梯度法\n",
    "def cg(A,f,u,TOL,itmax):\n",
    "    res=np.array(f)\n",
    "    p=res\n",
    "    f_norm=norm(f)\n",
    "    res_old=0.0\n",
    "    res_new=0.0\n",
    "    for it in range(itmax):\n",
    "        res_new=norm(res)\n",
    "        print('itter,res=',it,res_new)\n",
    "        if res_new<TOL*f_norm:\n",
    "            break;\n",
    "        if it==0:\n",
    "            beta=0.0\n",
    "        else:\n",
    "            beta=res_new**2/res_old**2\n",
    "        p=res+beta*p\n",
    "        ap=A.dot(p)\n",
    "        alpha=res_new**2/p.dot(ap)\n",
    "        u+=alpha*p\n",
    "        res-=alpha*ap\n",
    "        res_old=res_new\n",
    "\n",
    "#预处理共轭梯度法\n",
    "def ycg(A,f,u,TOL,itmax,M):\n",
    "    res=np.array(f)\n",
    "    z=np.zeros(len(f))\n",
    "    p=res\n",
    "    f_norm=norm(f)\n",
    "    res_old=0.0\n",
    "    res_new=0.0\n",
    "    for it in range(itmax):\n",
    "        res_new=res.dot(z.T)\n",
    "        print('itter,res=',it,norm(res))\n",
    "        if norm(res)<TOL*f_norm:\n",
    "            break;\n",
    "        if it==0:\n",
    "            beta=0.0\n",
    "        else:\n",
    "            beta=res_new/res_old\n",
    "        z=inv(M).dot(res)\n",
    "        p=z+beta*p\n",
    "        ap=A.dot(p)\n",
    "        res_new=res.dot(z.T)\n",
    "        alpha=res_new/p.dot(ap)\n",
    "        u+=alpha*p\n",
    "        res-=alpha*ap\n",
    "        res_old=res_new\n",
    "\n",
    "Nx=int(input(\"输入Nx: \"))\n",
    "Ny=int(input(\"输入Ny: \"))\n",
    "K=int(input(\"输入最大迭代步数K: \"))\n",
    "TOL=float(input(\"输入控制精度: \"))\n",
    "N=(Nx+1)*(Ny+1)\n",
    "A=np.diag([4]*N)\n",
    "#构造系数矩阵A\n",
    "for n in range(N):\n",
    "    for m in range(N):\n",
    "        if m==(n-Nx-1) or m==(n+Nx+1) or m==n-1 or m==n+1:\n",
    "            A[n][m]=-1\n",
    "b=np.ones(N)\n",
    "#共轭梯度法计算u1\n",
    "u1=np.zeros(N)\n",
    "print(\"采用共轭梯度法：\")\n",
    "cg(A,b,u1,TOL,K)\n",
    "print(u1)\n",
    "#预处理共轭梯度法计算u2\n",
    "u2=np.zeros(N)\n",
    "M=np.diag([4]*N)\n",
    "for i in range(N-1): #构造预处理矩阵M\n",
    "    M[i][i+1]=A[i][i+1]\n",
    "    M[i+1][i]=A[i+1][i]\n",
    "print(\"采用预处理共轭梯度法：\")\n",
    "ycg(A,b,u2,TOL,K,M)\n",
    "print(u2)"
   ]
  },
  {
   "cell_type": "markdown",
   "id": "86da47f6",
   "metadata": {},
   "source": [
    "### （2）代码："
   ]
  },
  {
   "cell_type": "code",
   "execution_count": 1,
   "id": "fa06e52f",
   "metadata": {},
   "outputs": [
    {
     "name": "stdout",
     "output_type": "stream",
     "text": [
      "k取1,2……10时共轭迭代次数依次为[ 2.  5.  8. 12. 15. 17. 20. 23. 26. 28.]\n"
     ]
    },
    {
     "data": {
      "image/png": "[encoded data removed]",
      "text/plain": [
       "<Figure size 432x288 with 1 Axes>"
      ]
     },
     "metadata": {
      "needs_background": "light"
     },
     "output_type": "display_data"
    }
   ],
   "source": [
    "import matplotlib.pyplot as plt\n",
    "plt.rcParams['font.sans-serif'] = ['SimHei'] #用来正常显示中文标签\n",
    "plt.rcParams['axes.unicode_minus'] = False #用来正常显示负号\n",
    "import numpy as np\n",
    "from numpy.linalg import inv,norm\n",
    "\n",
    "#共轭梯度法\n",
    "def cg(A,f,u,TOL,itmax):\n",
    "    res=np.array(f)\n",
    "    p=res\n",
    "    f_norm=norm(f)\n",
    "    res_old=0.0\n",
    "    res_new=0.0\n",
    "    for it in range(itmax):\n",
    "        res_new=norm(res)\n",
    "        if res_new<TOL*f_norm:\n",
    "            break;\n",
    "        if it==0:\n",
    "            beta=0.0\n",
    "        else:\n",
    "            beta=res_new**2/res_old**2\n",
    "        p=res+beta*p\n",
    "        ap=A.dot(p)\n",
    "        alpha=res_new**2/p.dot(ap)\n",
    "        u+=alpha*p\n",
    "        res-=alpha*ap\n",
    "        res_old=res_new\n",
    "    return it\n",
    "    \n",
    "X=np.zeros(10)\n",
    "K=range(1,11)\n",
    "for k in K:\n",
    "    Nx=k\n",
    "    Ny=k\n",
    "    N=(Nx+1)*(Ny+1)\n",
    "    A=np.diag([4]*N)\n",
    "    #构造系数矩阵A\n",
    "    for n in range(N):\n",
    "        for m in range(N):\n",
    "            if m==(n-Nx-1) or m==(n+Nx+1) or m==n-1 or m==n+1:\n",
    "                A[n][m]=-1\n",
    "    b=np.ones(N)\n",
    "    #共轭梯度法计算u\n",
    "    u=np.zeros(N)\n",
    "    X[k-1]=cg(A,b,u,1e-6,1000)\n",
    "print(\"k取1,2……10时共轭迭代次数依次为{}\".format(X))\n",
    "#拟合\n",
    "z1=np.polyfit(K,X,1)\n",
    "p1=np.poly1d(z1)\n",
    "#绘图\n",
    "plt.figure()\n",
    "plt.scatter(K,X,color='red',label=\"Sample Point\",linewidth=3)\n",
    "x=np.linspace(0,11,111)\n",
    "y=p1(x)\n",
    "plt.plot(x,y,color=\"blue\",label=\"拟合图像\",linewidth=2)\n",
    "plt.legend()\n",
    "plt.show()"
   ]
  }
 ],
 "metadata": {
  "kernelspec": {
   "display_name": "Python 3 (ipykernel)",
   "language": "python",
   "name": "python3"
  },
  "language_info": {
   "codemirror_mode": {
    "name": "ipython",
    "version": 3
   },
   "file_extension": ".py",
   "mimetype": "text/x-python",
   "name": "python",
   "nbconvert_exporter": "python",
   "pygments_lexer": "ipython3",
   "version": "3.9.12"
  }
 },
 "nbformat": 4,
 "nbformat_minor": 5
}
