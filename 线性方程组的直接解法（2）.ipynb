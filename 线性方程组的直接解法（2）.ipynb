{
 "cells": [
  {
   "cell_type": "markdown",
   "id": "c97810c9",
   "metadata": {},
   "source": [
    "# 1. 正交矩阵判断\n",
    "### 代码："
   ]
  },
  {
   "cell_type": "code",
   "execution_count": 8,
   "id": "3d6778a0",
   "metadata": {},
   "outputs": [
    {
     "name": "stdout",
     "output_type": "stream",
     "text": [
      "True\n"
     ]
    }
   ],
   "source": [
    "import numpy as np\n",
    "\n",
    "a = np.asarray([[0,-1,0],\n",
    "       [1,0,0],\n",
    "       [0,0,1]])\n",
    "b = a.transpose()\n",
    "c=np.matmul(a,b)\n",
    "print(np.allclose(np.eye(3),c))"
   ]
  },
  {
   "cell_type": "markdown",
   "id": "2caf2ea3",
   "metadata": {},
   "source": [
    "# 2. 用 Givens 变换化上海森伯格矩阵为上三角阵\n",
    "### 代码："
   ]
  },
  {
   "cell_type": "code",
   "execution_count": 12,
   "id": "7ab66563",
   "metadata": {},
   "outputs": [
    {
     "name": "stdout",
     "output_type": "stream",
     "text": [
      "[[19.20937271  4.99756038  5.46608167 14.99268114 10.30746828]\n",
      " [ 0.         24.00050812 81.0267398  38.87722568 39.97781213]\n",
      " [ 0.         -0.         32.2302558  18.58359224 32.34187038]\n",
      " [-0.          0.          0.         26.10423214 15.8674983 ]\n",
      " [ 0.         -0.          0.         -0.          9.63102035]]\n"
     ]
    }
   ],
   "source": [
    "import numpy as np\n",
    "import math\n",
    "\n",
    "arr=np.array([[15,4,7,0,6],[12,3,0,24,9],[0,24,81,39,40],[0,0,32,21,33],[0,0,0,15,17]])\n",
    "n=5\n",
    "\n",
    "for i in range(n-1):\n",
    "    G=np.eye(n)\n",
    "    x1=arr[i][i]\n",
    "    x2=arr[i+1][i]\n",
    "    c=x1/(math.sqrt(x1**2+x2**2))\n",
    "    s=x2/(math.sqrt(x1**2+x2**2))\n",
    "    G[i][i]=c\n",
    "    G[i+1][i+1]=c\n",
    "    G[i][i+1]=s\n",
    "    G[i+1][i]=-s\n",
    "    arr=np.dot(G,arr)\n",
    "np.set_printoptions(suppress=True)\n",
    "print(arr)"
   ]
  },
  {
   "cell_type": "markdown",
   "id": "91e0f10a",
   "metadata": {},
   "source": [
    "# 3. 正交三角分解\n",
    "### 代码："
   ]
  },
  {
   "cell_type": "code",
   "execution_count": 13,
   "id": "4415b9c5",
   "metadata": {},
   "outputs": [
    {
     "name": "stdout",
     "output_type": "stream",
     "text": [
      "[[ 0.          0.91287093  0.66666667]\n",
      " [ 0.4472136   0.36514837  0.66666667]\n",
      " [ 0.89442719 -0.18257419 -0.33333333]]\n",
      "[[6.70820393 0.         0.        ]\n",
      " [0.         1.09544512 0.        ]\n",
      " [0.         1.         0.        ]]\n"
     ]
    }
   ],
   "source": [
    "def Schmidt(A):\n",
    "    n=A.shape[0]\n",
    "    Q=np.zeros((n,n))\n",
    "    R=np.zeros((n,n))\n",
    "    for k in range(n):\n",
    "        b=np.zeros(n)\n",
    "        if k==0:\n",
    "            b=A[:,0:1]\n",
    "            d=np.linalg.norm(b)\n",
    "            Q[:,0:1]=b/d\n",
    "        else:\n",
    "            b=A[:,k:k+1]\n",
    "            for j in range(k):\n",
    "                b-=(A[:,k:k+1].T@Q[:,j:j+1])*Q[:,j:j+1]\n",
    "            d=np.linalg.norm(b)\n",
    "            Q[:,k:k+1]=b/d\n",
    "    R=Q.T@A\n",
    "    return Q,R \n",
    "\n",
    "A=np.arange(9).reshape(3,3).astype(np.float64)\n",
    "Q,R=Schmidt(A)\n",
    "print(Q)\n",
    "print(R)"
   ]
  },
  {
   "cell_type": "code",
   "execution_count": null,
   "id": "65203862",
   "metadata": {},
   "outputs": [],
   "source": []
  }
 ],
 "metadata": {
  "kernelspec": {
   "display_name": "Python 3 (ipykernel)",
   "language": "python",
   "name": "python3"
  },
  "language_info": {
   "codemirror_mode": {
    "name": "ipython",
    "version": 3
   },
   "file_extension": ".py",
   "mimetype": "text/x-python",
   "name": "python",
   "nbconvert_exporter": "python",
   "pygments_lexer": "ipython3",
   "version": "3.9.12"
  }
 },
 "nbformat": 4,
 "nbformat_minor": 5
}
