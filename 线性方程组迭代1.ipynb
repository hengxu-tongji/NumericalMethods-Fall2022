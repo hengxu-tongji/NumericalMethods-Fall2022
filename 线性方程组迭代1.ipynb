{
 "cells": [
  {
   "cell_type": "markdown",
   "id": "3ff80531",
   "metadata": {},
   "source": [
    "# 1.Jacob迭代法\n",
    "### 代码："
   ]
  },
  {
   "cell_type": "code",
   "execution_count": 1,
   "id": "a00c8552",
   "metadata": {},
   "outputs": [
    {
     "name": "stdout",
     "output_type": "stream",
     "text": [
      "请输入Nx: 1\n",
      "请输入Ny: 2\n",
      "请输入最大迭代步数K: 100\n",
      "请输入控制精度: 0.01\n",
      "解方程AX=b得X=\n",
      "[[0.89792095]\n",
      " [1.18075474]\n",
      " [1.41652536]\n",
      " [1.41652536]\n",
      " [1.18075474]\n",
      " [0.89792095]]\n"
     ]
    }
   ],
   "source": [
    "import numpy as np\n",
    "from numpy.linalg import inv,norm\n",
    "import matplotlib.pyplot as plt\n",
    "def jacobi(A,b,tol,K):\n",
    "    D=np.diag(np.diag(A))\n",
    "    U=(np.triu(A)-D)\n",
    "    L=(np.tril(A)-D)\n",
    "    err=1\n",
    "    step=0\n",
    "    x_old=np.zeros((len(b),1))\n",
    "    x=np.zeros((len(b),1))\n",
    "    while err>tol and step<K:\n",
    "        x=inv(D).dot(b-(L+U).dot(x_old))\n",
    "        err=norm(b-A.dot(x),2)/norm(b,2)\n",
    "        x_old=x\n",
    "        step+=1\n",
    "    return x\n",
    "N1=int(input(\"请输入Nx: \"))\n",
    "N2=int(input(\"请输入Ny: \"))\n",
    "K=int(input(\"请输入最大迭代步数K: \"))\n",
    "tol=float(input(\"请输入控制精度: \"))\n",
    "N=(N1+1)*(N2+1)\n",
    "b=np.ones((N,1))\n",
    "A=np.diag([4]*N)\n",
    "for n in range(N):\n",
    "    for m in range(N):\n",
    "        if m==(n-N1-1) or m==(n+N1+1) or m==n-1 or m==n+1:\n",
    "            A[n][m]=-1\n",
    "print(\"解方程AX=b得X=\")\n",
    "print(jacobi(A,b,tol,K))"
   ]
  },
  {
   "cell_type": "markdown",
   "id": "2320398d",
   "metadata": {},
   "source": [
    "# 2.Gauss-Seidel迭代法\n",
    "### 代码："
   ]
  },
  {
   "cell_type": "code",
   "execution_count": 2,
   "id": "20b4ad34",
   "metadata": {},
   "outputs": [
    {
     "name": "stdout",
     "output_type": "stream",
     "text": [
      "请输入N: 4\n",
      "请输入最大迭代步数K: 100\n",
      "请输入控制精度: 0.01\n",
      "解方程AX=b得X=\n",
      "[[0.79113818]\n",
      " [0.42959598]\n",
      " [0.30455659]\n",
      " [0.23554395]]\n"
     ]
    }
   ],
   "source": [
    "import numpy as np\n",
    "from numpy.linalg import inv,norm\n",
    "import matplotlib.pyplot as plt\n",
    "def gauss_seidel(A,b,tol,K):\n",
    "    D=np.diag(np.diag(A))\n",
    "    U=(np.triu(A)-D)\n",
    "    L=(np.tril(A)-D)\n",
    "    err=1\n",
    "    step=0\n",
    "    x_old=np.zeros((len(b),1))\n",
    "    x=np.zeros((len(b),1))\n",
    "    while err>tol and step<K:\n",
    "        x=np.dot(inv(inv(D).dot(L)+np.identity(len(b))),inv(D).dot(b-U.dot(x_old)))\n",
    "        err=norm(b-A.dot(x),2)/norm(b,2)\n",
    "        x_old=x\n",
    "        step+=1\n",
    "    return x\n",
    "N=int(input(\"请输入N: \"))\n",
    "K=int(input(\"请输入最大迭代步数K: \"))\n",
    "tol=float(input(\"请输入控制精度: \"))\n",
    "b=np.ones((N,1))\n",
    "for i in range(N):\n",
    "    b[i][0]=i+1\n",
    "A=np.zeros((N,N))\n",
    "for i in range(N):\n",
    "    for j in range(N):\n",
    "        if j==i:\n",
    "            A[i][j]=(i+1)**2\n",
    "        else:\n",
    "            A[i][j]=1/(i+j+3)\n",
    "print(\"解方程AX=b得X=\")\n",
    "print(gauss_seidel(A,b,tol,K))"
   ]
  },
  {
   "cell_type": "markdown",
   "id": "30923a94",
   "metadata": {},
   "source": [
    "# 3.SOR迭代法\n",
    "(1)取松弛因子w=1.1时，用SOR迭代求解题1\n"
   ]
  },
  {
   "cell_type": "code",
   "execution_count": 3,
   "id": "8c09befb",
   "metadata": {},
   "outputs": [
    {
     "name": "stdout",
     "output_type": "stream",
     "text": [
      "请输入Nx: 1\n",
      "请输入Ny: 2\n",
      "请输入最大迭代步数K: 100\n",
      "请输入控制精度: 0.01\n",
      "解方程AX=b得X=\n",
      "[[0.89664351]\n",
      " [1.18100891]\n",
      " [1.41871105]\n",
      " [1.42039626]\n",
      " [1.18493124]\n",
      " [0.90156517]]\n"
     ]
    }
   ],
   "source": [
    "import numpy as np\n",
    "from numpy.linalg import inv,norm\n",
    "import matplotlib.pyplot as plt\n",
    "def sor(A,b,tol,K,w):\n",
    "    D=np.diag(np.diag(A))\n",
    "    U=(np.triu(A)-D)\n",
    "    L=(np.tril(A)-D)\n",
    "    err=1\n",
    "    step=0\n",
    "    x_old=np.zeros((len(b),1))\n",
    "    x=np.zeros((len(b),1))\n",
    "    while err>tol and step<K:\n",
    "        x=inv(w*L+D).dot((1-w)*D.dot(x_old)-w*U.dot(x_old))+w*inv(D+w*L).dot(b)\n",
    "        err=norm(b-A.dot(x),2)/norm(b,2)\n",
    "        x_old=x\n",
    "        step+=1\n",
    "    return x\n",
    "N1=int(input(\"请输入Nx: \"))\n",
    "N2=int(input(\"请输入Ny: \"))\n",
    "K=int(input(\"请输入最大迭代步数K: \"))\n",
    "tol=float(input(\"请输入控制精度: \"))\n",
    "N=(N1+1)*(N2+1)\n",
    "b=np.ones((N,1))\n",
    "A=np.diag([4]*N)\n",
    "for n in range(N):\n",
    "    for m in range(N):\n",
    "        if m==(n-N1-1) or m==(n+N1+1) or m==n-1 or m==n+1:\n",
    "            A[n][m]=-1\n",
    "print(\"解方程AX=b得X=\")\n",
    "print(sor(A,b,tol,K,1.1))"
   ]
  },
  {
   "cell_type": "markdown",
   "id": "90f80caf",
   "metadata": {},
   "source": [
    "(2)当w取值为0，0.1，0.2，0.3……1.9，2时,求最优松弛因子"
   ]
  },
  {
   "cell_type": "code",
   "execution_count": 5,
   "id": "c1c1570c",
   "metadata": {},
   "outputs": [
    {
     "name": "stdout",
     "output_type": "stream",
     "text": [
      "[2000, 2000, 2000, 2000, 2000, 2000, 2000, 2000, 2000, 2000, 2000, 1930, 1572, 1269, 1010, 784, 587, 411, 253, 152, 2000]\n"
     ]
    }
   ],
   "source": [
    "import numpy as np\n",
    "from numpy.linalg import inv,norm\n",
    "import matplotlib.pyplot as plt\n",
    "def sor(A,b,tol,K,w):\n",
    "    D=np.diag(np.diag(A))\n",
    "    U=(np.triu(A)-D)\n",
    "    L=(np.tril(A)-D)\n",
    "    err=1\n",
    "    step=0\n",
    "    x_old=np.zeros((len(b),1))\n",
    "    x=np.zeros((len(b),1))\n",
    "    while err>tol and step<K:\n",
    "        x=inv(w*L+D).dot((1-w)*D.dot(x_old)-w*U.dot(x_old))+w*inv(D+w*L).dot(b)\n",
    "        err=norm(b-A.dot(x),2)/norm(b,2)\n",
    "        x_old=x\n",
    "        step+=1\n",
    "    return step\n",
    "N1=30\n",
    "N2=30\n",
    "K=2000\n",
    "tol=1e-5\n",
    "N=(N1+1)*(N2+1)\n",
    "b=np.ones((N,1))\n",
    "A=np.diag([4]*N)\n",
    "for n in range(N):\n",
    "    for m in range(N):\n",
    "        if m==(n-N1-1) or m==(n+N1+1) or m==n-1 or m==n+1:\n",
    "            A[n][m]=-1\n",
    "step=list()\n",
    "for w in np.linspace(0,2,21):\n",
    "    step.append(sor(A,b,tol,K,w))\n",
    "print(step)"
   ]
  },
  {
   "cell_type": "markdown",
   "id": "1b111287",
   "metadata": {},
   "source": [
    "当w取值为0，0.1，0.2，0.3……1.9，2时，迭代步数依次为\n",
    "\n",
    "2000\n",
    "2000\n",
    "2000\n",
    "2000\n",
    "2000\n",
    "2000\n",
    "2000\n",
    "2000\n",
    "2000\n",
    "2000\n",
    "2000\n",
    "1930\n",
    "1572\n",
    "1269\n",
    "1010\n",
    "784\n",
    "587\n",
    "411\n",
    "253\n",
    "152\n",
    "2000\n",
    "\n",
    "注意到，松弛因子取1.9时，迭代步数最少，为152，即w=1.9最优（环境为Thonny）"
   ]
  },
  {
   "cell_type": "code",
   "execution_count": null,
   "id": "f4e9b3e0",
   "metadata": {},
   "outputs": [],
   "source": []
  }
 ],
 "metadata": {
  "kernelspec": {
   "display_name": "Python 3 (ipykernel)",
   "language": "python",
   "name": "python3"
  },
  "language_info": {
   "codemirror_mode": {
    "name": "ipython",
    "version": 3
   },
   "file_extension": ".py",
   "mimetype": "text/x-python",
   "name": "python",
   "nbconvert_exporter": "python",
   "pygments_lexer": "ipython3",
   "version": "3.9.12"
  }
 },
 "nbformat": 4,
 "nbformat_minor": 5
}
