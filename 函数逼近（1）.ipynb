{
 "cells": [
  {
   "cell_type": "markdown",
   "id": "6afc0a51",
   "metadata": {},
   "source": [
    "# 1.编写程序\n",
    "### 对定义在 [0,1] 上的连续函数 f(x) = sin(2πx), 近似的计算伯恩斯坦多项式Bn与 f(x) 的偏差 ϵn = ∥Bn(f, x) − f(x)∥∞, 并且绘出偏差 ϵn 随 n 变化的图形\n",
    "### 代码："
   ]
  },
  {
   "cell_type": "code",
   "execution_count": 3,
   "id": "d5a38659",
   "metadata": {},
   "outputs": [
    {
     "data": {
      "image/png": "[encoded data removed]",
      "text/plain": [
       "<Figure size 432x288 with 1 Axes>"
      ]
     },
     "metadata": {
      "needs_background": "light"
     },
     "output_type": "display_data"
    }
   ],
   "source": [
    "import numpy as np\n",
    "import matplotlib.pyplot as plt\n",
    "plt.rcParams['font.sans-serif'] = ['SimHei'] #用来正常显示中文标签\n",
    "import math\n",
    "from scipy.interpolate import BPoly\n",
    "from sympy import *\n",
    "from scipy import optimize\n",
    "\n",
    "X=[0,1]\n",
    "Y=[0,0,0,0,0,0,0,0,0,0,0,0,0,0,0,0,0,0,0,0]\n",
    "i=0\n",
    "for n in range(10,210,10):\n",
    "    c=np.array([np.sin(2*math.pi*k/n) for k in range(n+1)]).reshape(-1,1)\n",
    "    bp=BPoly(c,X) #求n阶伯恩斯坦多项式\n",
    "    #定义偏差函数g(x)\n",
    "    def g(x):\n",
    "        return abs(bp(x)-np.sin(2*math.pi*x))\n",
    "    m=optimize.fminbound(lambda x: -g(x), 0, 1)\n",
    "    Y[i]=abs(bp(m)-np.sin(2*math.pi*m))\n",
    "    i=i+1\n",
    "\n",
    "plt.figure()\n",
    "plt.plot(range(10,210,10),Y)\n",
    "plt.xlabel('n')\n",
    "plt.ylabel('偏差')\n",
    "plt.title('伯恩斯坦多项式逼近函数f(x)的偏差随n的变化')\n",
    "plt.show()"
   ]
  },
  {
   "cell_type": "markdown",
   "id": "22b2a1ba",
   "metadata": {},
   "source": [
    "# 2.计算定义在区间 [0, 1] 的函数 $f(x)=\\sqrt{1+x^2}$ 的最佳一致逼近多项式为 $p1(x)$; 求节点 x1, x2 ∈ (0, 1),使得以这两个节点作为插值节点所得到的的插值多项式是 $p1(x)$\n",
    "### 解：\n",
    "由于插值多项式的唯一性，若通过插值节点x1,x2作插值多项式使得其为p1(x),则两插值节点即为p1(x)与f(x)两交点，故通过解方程p1(x)-f(x)=0即得；而p1(x)可依照公式逐步解出。\n",
    "### 代码："
   ]
  },
  {
   "cell_type": "code",
   "execution_count": 4,
   "id": "4b1d8ec2",
   "metadata": {},
   "outputs": [
    {
     "name": "stdout",
     "output_type": "stream",
     "text": [
      "最佳一致逼近多项式为p1(x)=0.414213562373095*x + 0.955089860562227\n",
      "两个插值节点分别为x1=0.128172448134641,x2=0.826917412427586\n"
     ]
    }
   ],
   "source": [
    "import numpy as np\n",
    "import math\n",
    "from sympy import *\n",
    "\n",
    "x=Symbol('x')\n",
    "f=(1+x**2)**(1/2) #定义原函数表达式f\n",
    "a1=f.subs(x,1)-f.subs(x,0) #计算p1(x)中系数a1\n",
    "f_=diff(f,x)-a1\n",
    "r=nsolve(f_,0.5) #求解区别于端点0，1的偏差点，记为r\n",
    "a0=(f.subs(x,0)+f.subs(x,r))/2-r*a1/2 #计算p1(x)中系数a0\n",
    "p1=a0+a1*x\n",
    "[x1,x2]=solve((1+x**2)**(1/2)-a0-a1*x,x) #由于插值多项式的唯一性，插值节点x1,x2即为p1(x)与f(x)交点\n",
    "print(\"最佳一致逼近多项式为p1(x)={}\".format(p1))\n",
    "print(\"两个插值节点分别为x1={},x2={}\".format(x1,x2))"
   ]
  },
  {
   "cell_type": "code",
   "execution_count": null,
   "id": "5328c4c9",
   "metadata": {},
   "outputs": [],
   "source": []
  }
 ],
 "metadata": {
  "kernelspec": {
   "display_name": "Python 3 (ipykernel)",
   "language": "python",
   "name": "python3"
  },
  "language_info": {
   "codemirror_mode": {
    "name": "ipython",
    "version": 3
   },
   "file_extension": ".py",
   "mimetype": "text/x-python",
   "name": "python",
   "nbconvert_exporter": "python",
   "pygments_lexer": "ipython3",
   "version": "3.9.12"
  }
 },
 "nbformat": 4,
 "nbformat_minor": 5
}
