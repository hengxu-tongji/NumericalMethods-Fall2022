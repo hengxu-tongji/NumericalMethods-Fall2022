{
 "cells": [
  {
   "cell_type": "markdown",
   "id": "e2946813",
   "metadata": {},
   "source": [
    "# 1.幂方法\n",
    "### 代码："
   ]
  },
  {
   "cell_type": "code",
   "execution_count": 19,
   "id": "67e3691b",
   "metadata": {},
   "outputs": [
    {
     "name": "stdout",
     "output_type": "stream",
     "text": [
      "(array([5.06024871, 4.60700698, 9.16455761]), 9.164555167233821)\n",
      "(array([ 6.00000654,  4.28572036, -1.49999673]), 6.0000130790190696)\n",
      "(array([14.62709182, 11.47079993,  9.48318718,  4.52046379]), 14.627096732355023)\n"
     ]
    }
   ],
   "source": [
    "import numpy as np\n",
    "err=10**(-5)\n",
    "k=200\n",
    "x1=np.array([1,1,1])\n",
    "x2=np.array([1,1,1,1])\n",
    "def power(A,x0,tol,maxit):\n",
    "    lamda0=max(x0,key=abs)\n",
    "    u=x0/lamda0\n",
    "    while maxit>0:\n",
    "        v=A.dot(u)\n",
    "        lamda1=max(v,key=abs)\n",
    "        u=v/lamda1\n",
    "        if abs(lamda1-lamda0)<tol:\n",
    "            break\n",
    "        lamda0=lamda1\n",
    "    return v,lamda0\n",
    "A1=np.array([[1,3,3],[2,1,3],[3,3,6]])\n",
    "A2=np.array([[-4,14,0],[-5,13,0],[-1,0,2]])\n",
    "A3=np.array([[8,4,3,5],[7,2,4,1],[6,2,2,2],[1,0,4,3]])\n",
    "print(power(A1,x1,err,k))\n",
    "print(power(A2,x1,err,k))\n",
    "print(power(A3,x2,err,k))"
   ]
  },
  {
   "cell_type": "markdown",
   "id": "fb2915f4",
   "metadata": {},
   "source": [
    "# 2.QR方法\n",
    "### 代码："
   ]
  },
  {
   "cell_type": "code",
   "execution_count": 21,
   "id": "cdd84530",
   "metadata": {},
   "outputs": [
    {
     "name": "stdout",
     "output_type": "stream",
     "text": [
      "[ 7.21833669 -3.60267036  1.99994695  1.38438673]\n"
     ]
    }
   ],
   "source": [
    "import numpy as np\n",
    "A=np.array([[5,2,2,1],[2,-3,1,1],[2,1,3,1],[1,1,1,2]])\n",
    "tol=10**(-4)\n",
    "err=1\n",
    "while err>tol:\n",
    "    q,r=np.linalg.qr(A)\n",
    "    A1=r.dot(q)\n",
    "    err=np.linalg.norm(np.diag(A1-A))\n",
    "    A=A1\n",
    "print(np.diag(A1))"
   ]
  },
  {
   "cell_type": "markdown",
   "id": "f14bd4bb",
   "metadata": {},
   "source": [
    "# 3.条件数\n",
    "### 代码："
   ]
  },
  {
   "cell_type": "code",
   "execution_count": 2,
   "id": "0d147fa7",
   "metadata": {},
   "outputs": [
    {
     "name": "stdout",
     "output_type": "stream",
     "text": [
      "n取100，200，……，1000时，矩阵条件数为：\n",
      "[  1033.66073249   4093.56047503   9179.88389375  16292.63098462\n",
      "  25431.80174915  36597.39618659  49789.41429691  65007.8560801\n",
      "  82252.72153617 101524.01066511]\n"
     ]
    }
   ],
   "source": [
    "import numpy as np\n",
    "from numpy.linalg import inv\n",
    "def power(A,x,tol,maxit):\n",
    "    n=x.shape\n",
    "    eigval_=0\n",
    "    eigvec=np.zeros(n)\n",
    "    for it in range(maxit):\n",
    "        eigval=max(x.min(),x.max(),key=abs)\n",
    "        if abs(eigval-eigval_)<tol:\n",
    "            break\n",
    "        eigvec=x/eigval\n",
    "        x=np.matmul(A,eigvec)\n",
    "        eigval_=eigval\n",
    "    if it==maxit-1:\n",
    "        eigvec=np.zeros(n) \n",
    "        return eigvec,eigval\n",
    "    eigvec=x/eigval\n",
    "    return eigval\n",
    "def invpower(A,x,tol,maxit):\n",
    "    B=inv(A)\n",
    "    n=x.shape\n",
    "    eigval_=0\n",
    "    eigvec=np.zeros(n)\n",
    "    for it in range(maxit):\n",
    "        eigval=max(x.min(),x.max(),key=abs)\n",
    "        if abs(eigval-eigval_)<tol:\n",
    "            break\n",
    "        eigvec=x/eigval\n",
    "        x=np.matmul(B,eigvec)\n",
    "        eigval_=eigval\n",
    "    if it==maxit-1:\n",
    "        eigvec=np.zeros(n) \n",
    "        return eigvec,1/eigval\n",
    "    eigvec=x/eigval\n",
    "    return 1/eigval\n",
    "tol=1e-5\n",
    "maxit=200\n",
    "cond=np.zeros(10)\n",
    "j=0\n",
    "for n in np.arange(100,1100,100):\n",
    "    A=np.diag([2]*n)\n",
    "    for i in range(n-1):\n",
    "        A[i][i+1]=-1\n",
    "        A[i+1][i]=-1\n",
    "    x=np.ones(n)\n",
    "    lambda1=power(A,x,tol,maxit)\n",
    "    lambda2=invpower(A,x,tol,maxit)\n",
    "    cond[j]=lambda1/lambda2\n",
    "    j=j+1\n",
    "print(\"n取100，200，……，1000时，矩阵条件数为：\")\n",
    "print(cond)"
   ]
  },
  {
   "cell_type": "code",
   "execution_count": null,
   "id": "ad31d68f",
   "metadata": {},
   "outputs": [],
   "source": []
  }
 ],
 "metadata": {
  "kernelspec": {
   "display_name": "Python 3 (ipykernel)",
   "language": "python",
   "name": "python3"
  },
  "language_info": {
   "codemirror_mode": {
    "name": "ipython",
    "version": 3
   },
   "file_extension": ".py",
   "mimetype": "text/x-python",
   "name": "python",
   "nbconvert_exporter": "python",
   "pygments_lexer": "ipython3",
   "version": "3.9.12"
  }
 },
 "nbformat": 4,
 "nbformat_minor": 5
}
