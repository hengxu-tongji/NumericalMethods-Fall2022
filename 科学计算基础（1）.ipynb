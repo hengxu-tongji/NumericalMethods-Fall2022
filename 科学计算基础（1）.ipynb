{
 "cells": [
  {
   "cell_type": "markdown",
   "id": "d765aa42",
   "metadata": {},
   "source": [
    "# 1.二进制产生的误差\n",
    "### 代码：\n"
   ]
  },
  {
   "cell_type": "code",
   "execution_count": 2,
   "id": "5a1ca0c7",
   "metadata": {},
   "outputs": [
    {
     "name": "stdout",
     "output_type": "stream",
     "text": [
      "-1.4068746168049984e-12\n"
     ]
    }
   ],
   "source": [
    "import numpy as np\n",
    "a=0\n",
    "for i in range(1,1001):\n",
    "    a=a+0.1\n",
    "a=a-100\n",
    "print(a)"
   ]
  },
  {
   "cell_type": "markdown",
   "id": "3d5f927d",
   "metadata": {},
   "source": [
    "### 原因：\n",
    "  计算机所使用的是二进制01代码。在计算十进制数值时，计算机将其转换为二进制数值后进行计算：对整数部分进行“除二取余”得到精确的数值，对小数部分进行“乘二取整”从而可能得到无限循环的二进制数值。因此在处理浮点数时，计算机的运算会得到误差。"
   ]
  },
  {
   "cell_type": "markdown",
   "id": "04536c24",
   "metadata": {},
   "source": [
    "# 2.数值稳定性\n",
    "### 代码："
   ]
  },
  {
   "cell_type": "code",
   "execution_count": 1,
   "id": "3e2c0b93",
   "metadata": {
    "scrolled": true
   },
   "outputs": [
    {
     "name": "stdout",
     "output_type": "stream",
     "text": [
      "[19.86924155+0.48302236j 19.86924155-0.48302236j 17.87639325+1.5256903j\n",
      " 17.87639325-1.5256903j  15.40180719+1.75012577j 15.40180719-1.75012577j\n",
      " 13.12693854+1.27481446j 13.12693854-1.27481446j 11.25116964+0.45773341j\n",
      " 11.25116964-0.45773341j  9.94365233+0.j          9.00532138+0.j\n",
      "  7.99996232+0.j          6.99996   +0.j          6.00000372+0.j\n",
      "  4.99999993+0.j          3.99999999+0.j          3.        +0.j\n",
      "  2.        +0.j          1.        +0.j        ]\n",
      "[19.95093687+0.j         19.23376981+0.j         17.66262185+0.70453172j\n",
      " 17.66262185-0.70453172j 15.45833811+0.90039246j 15.45833811-0.90039246j\n",
      " 13.34913778+0.53646905j 13.34913778-0.53646905j 11.83041674+0.j\n",
      " 11.05100728+0.j          9.99332671+0.j          9.00019746+0.j\n",
      "  8.0002056 +0.j          6.99993395+0.j          6.00001114+0.j\n",
      "  4.99999891+0.j          4.00000005+0.j          3.        +0.j\n",
      "  2.        +0.j          1.        +0.j        ]\n",
      "[19.99546545 19.0311922  17.87642992 17.20762366 15.60815435 15.38848845\n",
      " 13.78565666 13.14900633 11.93702345 11.02792251  9.99115123  9.00222651\n",
      "  7.99962504  7.00003429  6.00000034  4.99999954  4.00000005  3.\n",
      "  2.          1.        ]\n"
     ]
    },
    {
     "data": {
      "image/png": "[encoded data removed]",
      "text/plain": [
       "<Figure size 432x288 with 1 Axes>"
      ]
     },
     "metadata": {
      "needs_background": "light"
     },
     "output_type": "display_data"
    }
   ],
   "source": [
    "import numpy as np\n",
    "import matplotlib.pyplot as plt\n",
    "\n",
    "A=np.array(np.arange(1,21))\n",
    "p=np.poly1d(A,True)\n",
    "#print(p)\n",
    "r=np.roots(p)\n",
    "#print(r)\n",
    "\n",
    "epsilon=1e-8\n",
    "B=np.array(np.zeros(21))\n",
    "B[1]=epsilon\n",
    "p1=p+np.poly1d(B)\n",
    "#print(p1)\n",
    "r1=np.roots(p1)\n",
    "print(r1)\n",
    "\n",
    "epsilon=1e-9\n",
    "B[1]=epsilon\n",
    "p2=p+np.poly1d(B)\n",
    "#print(p2)\n",
    "r2=np.roots(p2)\n",
    "print(r2)\n",
    "\n",
    "epsilon=1e-10\n",
    "B[1]=epsilon\n",
    "p3=p+np.poly1d(B)\n",
    "#print(p3)\n",
    "r3=np.roots(p3)\n",
    "print(r3)\n",
    "\n",
    "plt.figure()\n",
    "x1=np.real(r1)\n",
    "x2=np.real(r2)\n",
    "x3=np.real(r3)\n",
    "y1=np.imag(r1)\n",
    "y2=np.imag(r2)\n",
    "y3=np.imag(r3)\n",
    "plt.scatter(x1,y1, c='red', s=50, label='p1,10e-8')\n",
    "plt.scatter(x2,y2, c=\"b\",marker=\"+\",s=100, label='p2,10e-9')\n",
    "plt.scatter(x3,y3, c=\"g\",marker=\"x\", s=100, label='p3,10e-10')\n",
    "plt.rcParams['font.sans-serif']=['SimHei']\n",
    "plt.rcParams['axes.unicode_minus'] = False\n",
    "plt.xlabel(\"实轴\", fontdict={'size': 16})\n",
    "plt.ylabel(\"虚轴\", fontdict={'size': 16})\n",
    "plt.legend(['p1,10e-8','p2,10e-9','p3,10e-10'],ncol=2,frameon=True)\n",
    "plt.show()"
   ]
  },
  {
   "cell_type": "markdown",
   "id": "e5cc795f",
   "metadata": {},
   "source": [
    "r1、r2、r3分别为进行三次大小为10e-8、10e-9、10e-10的扰动的多项式求解后的根。  \n",
    "分别用红色的圆、蓝色的+、绿色的x在图中表示其根的位置。"
   ]
  },
  {
   "cell_type": "markdown",
   "id": "2dd29875",
   "metadata": {},
   "source": [
    "# 3.数值计算与符号计算\n",
    "### 代码："
   ]
  },
  {
   "cell_type": "code",
   "execution_count": null,
   "id": "5f9e0d0f",
   "metadata": {},
   "outputs": [],
   "source": [
    "import numpy as np\n",
    "import matplotlib.pyplot as plt\n",
    "import sympy\n",
    "from sympy import *\n",
    "x=sympy.Symbol(\"x\")\n",
    "\n",
    "A=np.arange(1,21,1)\n",
    "p=np.poly1d(A,True)\n",
    "A=p.coeffs\n",
    "#print(A)\n",
    "\n",
    "A1=1*A\n",
    "A1[1]=A1[1]+1.0e-8\n",
    "#print(A1)\n",
    "y1=0\n",
    "for i in range(21):\n",
    "    y1=y1+x**i*A[20-i]\n",
    "r1=sympy.solve(y1,x)\n",
    "print(r1)\n",
    "\n",
    "A2=1*A\n",
    "A2[1]=A2[1]+1.0e-9\n",
    "#print(A2)\n",
    "y2=0\n",
    "for i in range(21):\n",
    "    y2=y2+x**i*A[20-i]\n",
    "r2=sympy.solve(y2,x)\n",
    "print(r2)\n",
    "\n",
    "A3=1*A\n",
    "A3[1]=A3[1]+1.0e-10\n",
    "#print(A3)\n",
    "y3=0\n",
    "for i in range(21):\n",
    "    y3=y3+x**i*A[20-i]\n",
    "r3=sympy.solve(y3,x)\n",
    "print(r3)\n"
   ]
  },
  {
   "cell_type": "markdown",
   "id": "5e749c78",
   "metadata": {},
   "source": [
    "r1、r2、r3分别为进行三次大小为10e-8、10e-9、10e-10的扰动的多项式求解后的根。  \n",
    "且用solve函数求解起来（即符号计算）时间远远大于数值计算。"
   ]
  },
  {
   "cell_type": "code",
   "execution_count": null,
   "id": "6f5a6413",
   "metadata": {},
   "outputs": [],
   "source": [
    "plt.figure()\n",
    "x1=np.real(r1)\n",
    "x2=np.real(r2)\n",
    "x3=np.real(r3)\n",
    "y1=np.imag(r1)\n",
    "y2=np.imag(r2)\n",
    "y3=np.imag(r3)\n",
    "plt.scatter(x1,y1, c='red', s=50, label='p1,10e-8')\n",
    "plt.scatter(x2,y2, c=\"b\",marker=\"+\",s=100, label='p2,10e-9')\n",
    "plt.scatter(x3,y3, c=\"g\",marker=\"x\", s=100, label='p3,10e-10')\n",
    "plt.rcParams['font.sans-serif']=['SimHei']\n",
    "plt.rcParams['axes.unicode_minus'] = False\n",
    "plt.xlabel(\"实轴\", fontdict={'size': 16})\n",
    "plt.ylabel(\"虚轴\", fontdict={'size': 16})\n",
    "plt.legend(['p1,10e-8','p2,10e-9','p3,10e-10'],ncol=2,frameon=True)\n",
    "plt.show()"
   ]
  },
  {
   "cell_type": "code",
   "execution_count": null,
   "id": "afb50816",
   "metadata": {},
   "outputs": [],
   "source": []
  }
 ],
 "metadata": {
  "kernelspec": {
   "display_name": "Python 3 (ipykernel)",
   "language": "python",
   "name": "python3"
  },
  "language_info": {
   "codemirror_mode": {
    "name": "ipython",
    "version": 3
   },
   "file_extension": ".py",
   "mimetype": "text/x-python",
   "name": "python",
   "nbconvert_exporter": "python",
   "pygments_lexer": "ipython3",
   "version": "3.9.12"
  }
 },
 "nbformat": 4,
 "nbformat_minor": 5
}
