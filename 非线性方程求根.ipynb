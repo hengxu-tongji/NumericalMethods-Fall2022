{
 "cells": [
  {
   "cell_type": "markdown",
   "id": "7d637028",
   "metadata": {},
   "source": [
    "# 1.不动点迭代\n",
    "### 代码："
   ]
  },
  {
   "cell_type": "code",
   "execution_count": 19,
   "id": "acaa1deb",
   "metadata": {},
   "outputs": [
    {
     "data": {
      "image/png": "[encoded data removed]",
      "text/plain": [
       "<Figure size 432x288 with 1 Axes>"
      ]
     },
     "metadata": {
      "needs_background": "light"
     },
     "output_type": "display_data"
    },
    {
     "name": "stdout",
     "output_type": "stream",
     "text": [
      "1.3864699906196314\n"
     ]
    }
   ],
   "source": [
    "import matplotlib.pyplot as plt\n",
    "import numpy as np\n",
    "from math import log\n",
    "x = np.linspace(-4, 4, 50)\n",
    "y=x-4+2**x\n",
    "plt.plot(x,y)\n",
    "plt.show()\n",
    "a=1.5\n",
    "err=0.001\n",
    "cha=1\n",
    "while cha>err:\n",
    "    b=log(4-a)/log(2)\n",
    "    cha=abs(b-a)\n",
    "    a=b\n",
    "print(a)"
   ]
  },
  {
   "cell_type": "markdown",
   "id": "9496ee5b",
   "metadata": {},
   "source": [
    "# 2.重根对牛顿法迭代影响\n",
    "### （1）代码："
   ]
  },
  {
   "cell_type": "code",
   "execution_count": 2,
   "id": "30bc749b",
   "metadata": {},
   "outputs": [
    {
     "name": "stdout",
     "output_type": "stream",
     "text": [
      "1.414212455341812\n",
      "18\n"
     ]
    }
   ],
   "source": [
    "import numpy as np\n",
    "from math import log\n",
    "def f(x):\n",
    "    return(x**4-4*x**2+4)\n",
    "a=1\n",
    "err=0.00000000001\n",
    "cha=1\n",
    "count=0\n",
    "while cha>err:\n",
    "    b=a-(a**2-2)/(4*a)\n",
    "    cha=f(b)\n",
    "    a=b\n",
    "    count=count+1\n",
    "print(a)\n",
    "print(count)"
   ]
  },
  {
   "cell_type": "markdown",
   "id": "f2caf663",
   "metadata": {},
   "source": [
    "### (2)代码："
   ]
  },
  {
   "cell_type": "code",
   "execution_count": 3,
   "id": "14aafcc9",
   "metadata": {},
   "outputs": [
    {
     "name": "stdout",
     "output_type": "stream",
     "text": [
      "1.4166666666666667\n",
      "2\n"
     ]
    }
   ],
   "source": [
    "import numpy as np\n",
    "from math import log\n",
    "def f(x):\n",
    "    return(x**4-4*x**2+4)\n",
    "a=1\n",
    "err=0.001\n",
    "cha=1\n",
    "count=0\n",
    "while cha>err:\n",
    "    b=a-(a**2-2)/(2*a)\n",
    "    cha=f(b)\n",
    "    a=b\n",
    "    count=count+1\n",
    "print(a)\n",
    "print(count)"
   ]
  },
  {
   "cell_type": "markdown",
   "id": "fcc1b739",
   "metadata": {},
   "source": [
    "### (3)代码："
   ]
  },
  {
   "cell_type": "code",
   "execution_count": 4,
   "id": "112336ee",
   "metadata": {},
   "outputs": [
    {
     "name": "stdout",
     "output_type": "stream",
     "text": [
      "1.4142135623715002\n",
      "4\n"
     ]
    }
   ],
   "source": [
    "import numpy as np\n",
    "from math import log\n",
    "def f(x):\n",
    "    return(x**4-4*x**2+4)\n",
    "a=1\n",
    "err=0.00000000001\n",
    "cha=1\n",
    "count=0\n",
    "while cha>err:\n",
    "    b=a-a*(a**2-2)/(a**2+2)\n",
    "    cha=f(b)\n",
    "    a=b\n",
    "    count=count+1\n",
    "print(a)\n",
    "print(count)"
   ]
  },
  {
   "cell_type": "markdown",
   "id": "53987fc5",
   "metadata": {},
   "source": [
    "# 3.比较收敛速度\n",
    "### 代码："
   ]
  },
  {
   "cell_type": "markdown",
   "id": "0a2227fc",
   "metadata": {},
   "source": [
    "牛顿法："
   ]
  },
  {
   "cell_type": "code",
   "execution_count": 8,
   "id": "e737fde0",
   "metadata": {},
   "outputs": [
    {
     "name": "stdout",
     "output_type": "stream",
     "text": [
      "0.8041376307435361\n",
      "5\n"
     ]
    }
   ],
   "source": [
    "import numpy as np\n",
    "from math import log\n",
    "a=1\n",
    "err=0.001\n",
    "cha=1\n",
    "count=0\n",
    "while cha>err:\n",
    "    b=10/11*a+(a**(-10))/121\n",
    "    cha=abs(b-a)\n",
    "    a=b\n",
    "    count=count+1\n",
    "print(a)\n",
    "print(count)"
   ]
  },
  {
   "cell_type": "markdown",
   "id": "fd2964dd",
   "metadata": {},
   "source": [
    "单点割线法："
   ]
  },
  {
   "cell_type": "code",
   "execution_count": 3,
   "id": "d37a9ec8",
   "metadata": {},
   "outputs": [
    {
     "name": "stdout",
     "output_type": "stream",
     "text": [
      "0.8045357967875946\n",
      "28\n"
     ]
    }
   ],
   "source": [
    "import numpy as np\n",
    "from math import log\n",
    "def f(x):\n",
    "    return (11*x**11-1)\n",
    "x0=0.7\n",
    "x1=1\n",
    "err=0.001\n",
    "cha=1\n",
    "count=0\n",
    "while cha>err:\n",
    "    y=x1-f(x1)*(x1-x0)/(f(x1)-f(x0))\n",
    "    cha=abs(y-x1)\n",
    "    x1=y\n",
    "    count=count+1\n",
    "print(x1)\n",
    "print(count)"
   ]
  },
  {
   "cell_type": "markdown",
   "id": "4da1d631",
   "metadata": {},
   "source": [
    "双点割线法："
   ]
  },
  {
   "cell_type": "code",
   "execution_count": 30,
   "id": "16fc1048",
   "metadata": {},
   "outputs": [
    {
     "name": "stdout",
     "output_type": "stream",
     "text": [
      "0.8040599633063374\n",
      "922577\n"
     ]
    }
   ],
   "source": [
    "import numpy as np\n",
    "from math import log\n",
    "def f(x):\n",
    "    return (11*x**11-1)\n",
    "x1=0.7\n",
    "x2=1\n",
    "y=1\n",
    "err=0.001\n",
    "cha=1\n",
    "count=0\n",
    "while cha>err or abs(f(y))>err:\n",
    "    y=x2-f(x1)*(x2-x1)/(f(x2)-f(x1))\n",
    "    cha=abs(y-x2)\n",
    "    x1=x2\n",
    "    x2=y\n",
    "    count=count+1\n",
    "print(x2)\n",
    "print(count)"
   ]
  },
  {
   "cell_type": "markdown",
   "id": "afc8bb93",
   "metadata": {},
   "source": [
    "# 4.非线性方程不动点迭代的收敛性\n",
    "### (1)代码："
   ]
  },
  {
   "cell_type": "code",
   "execution_count": 8,
   "id": "7a8711a9",
   "metadata": {},
   "outputs": [
    {
     "name": "stdout",
     "output_type": "stream",
     "text": [
      "-0.4472135954999579\n",
      "7\n"
     ]
    },
    {
     "ename": "ZeroDivisionError",
     "evalue": "float division by zero",
     "output_type": "error",
     "traceback": [
      "\u001b[1;31m---------------------------------------------------------------------------\u001b[0m",
      "\u001b[1;31mZeroDivisionError\u001b[0m                         Traceback (most recent call last)",
      "Input \u001b[1;32mIn [8]\u001b[0m, in \u001b[0;36m<cell line: 21>\u001b[1;34m()\u001b[0m\n\u001b[0;32m     20\u001b[0m count\u001b[38;5;241m=\u001b[39m\u001b[38;5;241m0\u001b[39m\n\u001b[0;32m     21\u001b[0m \u001b[38;5;28;01mwhile\u001b[39;00m cha\u001b[38;5;241m>\u001b[39merr:\n\u001b[1;32m---> 22\u001b[0m     b\u001b[38;5;241m=\u001b[39mx2\u001b[38;5;241m-\u001b[39m\u001b[43mf\u001b[49m\u001b[43m(\u001b[49m\u001b[43mx2\u001b[49m\u001b[43m)\u001b[49m\u001b[38;5;241;43m/\u001b[39;49m\u001b[43mf1\u001b[49m\u001b[43m(\u001b[49m\u001b[43mx2\u001b[49m\u001b[43m)\u001b[49m\n\u001b[0;32m     23\u001b[0m     cha\u001b[38;5;241m=\u001b[39m\u001b[38;5;28mabs\u001b[39m(b\u001b[38;5;241m-\u001b[39mx2)\n\u001b[0;32m     24\u001b[0m     x2\u001b[38;5;241m=\u001b[39mb\n",
      "\u001b[1;31mZeroDivisionError\u001b[0m: float division by zero"
     ]
    }
   ],
   "source": [
    "import numpy as np\n",
    "from math import log,exp\n",
    "def f(x):\n",
    "    return((x**2-0.2)*exp(-0.5*x))\n",
    "def f1(x):\n",
    "    return(2*x*exp(-0.5*x)-0.5*(x**2-0.2)*exp(-0.5*x))\n",
    "x1=-0.01\n",
    "err=0.00000000000001\n",
    "cha=1\n",
    "count=0\n",
    "while cha>err:\n",
    "    b=x1-f(x1)/f1(x1)\n",
    "    cha=abs(b-x1)\n",
    "    x1=b\n",
    "    count=count+1\n",
    "print(x1)\n",
    "print(count)\n",
    "x2=-0.03\n",
    "cha=1\n",
    "count=0\n",
    "while cha>err:\n",
    "    b=x2-f(x2)/f1(x2)\n",
    "    cha=abs(b-x2)\n",
    "    x2=b\n",
    "    count=count+1\n",
    "print(x2)\n",
    "print(count)"
   ]
  },
  {
   "cell_type": "markdown",
   "id": "f3ef4967",
   "metadata": {},
   "source": [
    "初值为-0.03时无法收敛"
   ]
  },
  {
   "cell_type": "markdown",
   "id": "9d87e56d",
   "metadata": {},
   "source": [
    "### （2）代码："
   ]
  },
  {
   "cell_type": "code",
   "execution_count": 1,
   "id": "be093ebf",
   "metadata": {},
   "outputs": [
    {
     "name": "stdout",
     "output_type": "stream",
     "text": [
      "0.4472135994926321\n",
      "4\n",
      "0.4472135976105153\n",
      "4\n"
     ]
    }
   ],
   "source": [
    "import numpy as np\n",
    "from math import log,exp\n",
    "def f(x):\n",
    "    return((x**2-0.2)*exp(-0.5*x))\n",
    "def f1(x):\n",
    "    return(2*x*exp(-0.5*x)-0.5*(x**2-0.2)*exp(-0.5*x))\n",
    "x1=-0.01\n",
    "err=0.0000001\n",
    "count=0\n",
    "while abs(f(x1))>err:\n",
    "    d=-f(x1)/f1(x1)\n",
    "    lamda=1\n",
    "    while abs(f(x1+lamda*d))>=abs(f(x1)):\n",
    "        lamda=lamda/2\n",
    "    x1=x1+lamda*d\n",
    "    count=count+1\n",
    "print(x1)\n",
    "print(count)\n",
    "x2=-0.03\n",
    "err=0.0000001\n",
    "count=0\n",
    "while abs(f(x2))>err:\n",
    "    d=-f(x2)/f1(x2)\n",
    "    lamda=1\n",
    "    while abs(f(x2+lamda*d))>=abs(f(x2)):\n",
    "        lamda=lamda/2\n",
    "    x2=x2+lamda*d\n",
    "    count=count+1\n",
    "print(x2)\n",
    "print(count)"
   ]
  },
  {
   "cell_type": "code",
   "execution_count": null,
   "id": "1225cbad",
   "metadata": {},
   "outputs": [],
   "source": []
  }
 ],
 "metadata": {
  "kernelspec": {
   "display_name": "Python 3 (ipykernel)",
   "language": "python",
   "name": "python3"
  },
  "language_info": {
   "codemirror_mode": {
    "name": "ipython",
    "version": 3
   },
   "file_extension": ".py",
   "mimetype": "text/x-python",
   "name": "python",
   "nbconvert_exporter": "python",
   "pygments_lexer": "ipython3",
   "version": "3.9.12"
  }
 },
 "nbformat": 4,
 "nbformat_minor": 5
}
